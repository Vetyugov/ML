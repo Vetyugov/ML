{
  "nbformat": 4,
  "nbformat_minor": 0,
  "metadata": {
    "colab": {
      "provenance": [],
      "authorship_tag": "ABX9TyP/3w3avOnWtJsJi28kTQl2",
      "include_colab_link": true
    },
    "kernelspec": {
      "name": "python3",
      "display_name": "Python 3"
    },
    "language_info": {
      "name": "python"
    }
  },
  "cells": [
    {
      "cell_type": "markdown",
      "metadata": {
        "id": "view-in-github",
        "colab_type": "text"
      },
      "source": [
        "<a href=\"https://colab.research.google.com/github/Vetyugov/ML/blob/master/Iris_Classifier_sklearn_LinearDiscriminantAnalysis_and_LogisticRegression.ipynb\" target=\"_parent\"><img src=\"https://colab.research.google.com/assets/colab-badge.svg\" alt=\"Open In Colab\"/></a>"
      ]
    },
    {
      "cell_type": "code",
      "execution_count": null,
      "metadata": {
        "id": "mCALrISrMbZp"
      },
      "outputs": [],
      "source": [
        "from sklearn.datasets import load_iris\n",
        "import pandas as pd\n",
        "import numpy as np\n",
        "import matplotlib.pyplot as plt\n",
        "from matplotlib import colors\n",
        "from sklearn.preprocessing import StandardScaler"
      ]
    },
    {
      "cell_type": "code",
      "source": [],
      "metadata": {
        "id": "_932ZwINMyJA"
      },
      "execution_count": null,
      "outputs": []
    },
    {
      "cell_type": "markdown",
      "source": [
        "# Возьмите датасет с цветками iris’а (функция load_iris из библиотеки sklearn)"
      ],
      "metadata": {
        "id": "vhrrR1y8NSqS"
      }
    },
    {
      "cell_type": "code",
      "source": [
        "iris = load_iris()"
      ],
      "metadata": {
        "id": "MbiblPJ7M1V-"
      },
      "execution_count": null,
      "outputs": []
    },
    {
      "cell_type": "code",
      "source": [
        "print(iris.DESCR)"
      ],
      "metadata": {
        "colab": {
          "base_uri": "https://localhost:8080/"
        },
        "id": "VgP5DnD_M4bz",
        "outputId": "5e719a6b-9893-4a9d-9002-b956bf9e8a72"
      },
      "execution_count": null,
      "outputs": [
        {
          "output_type": "stream",
          "name": "stdout",
          "text": [
            ".. _iris_dataset:\n",
            "\n",
            "Iris plants dataset\n",
            "--------------------\n",
            "\n",
            "**Data Set Characteristics:**\n",
            "\n",
            "    :Number of Instances: 150 (50 in each of three classes)\n",
            "    :Number of Attributes: 4 numeric, predictive attributes and the class\n",
            "    :Attribute Information:\n",
            "        - sepal length in cm\n",
            "        - sepal width in cm\n",
            "        - petal length in cm\n",
            "        - petal width in cm\n",
            "        - class:\n",
            "                - Iris-Setosa\n",
            "                - Iris-Versicolour\n",
            "                - Iris-Virginica\n",
            "                \n",
            "    :Summary Statistics:\n",
            "\n",
            "    ============== ==== ==== ======= ===== ====================\n",
            "                    Min  Max   Mean    SD   Class Correlation\n",
            "    ============== ==== ==== ======= ===== ====================\n",
            "    sepal length:   4.3  7.9   5.84   0.83    0.7826\n",
            "    sepal width:    2.0  4.4   3.05   0.43   -0.4194\n",
            "    petal length:   1.0  6.9   3.76   1.76    0.9490  (high!)\n",
            "    petal width:    0.1  2.5   1.20   0.76    0.9565  (high!)\n",
            "    ============== ==== ==== ======= ===== ====================\n",
            "\n",
            "    :Missing Attribute Values: None\n",
            "    :Class Distribution: 33.3% for each of 3 classes.\n",
            "    :Creator: R.A. Fisher\n",
            "    :Donor: Michael Marshall (MARSHALL%PLU@io.arc.nasa.gov)\n",
            "    :Date: July, 1988\n",
            "\n",
            "The famous Iris database, first used by Sir R.A. Fisher. The dataset is taken\n",
            "from Fisher's paper. Note that it's the same as in R, but not as in the UCI\n",
            "Machine Learning Repository, which has two wrong data points.\n",
            "\n",
            "This is perhaps the best known database to be found in the\n",
            "pattern recognition literature.  Fisher's paper is a classic in the field and\n",
            "is referenced frequently to this day.  (See Duda & Hart, for example.)  The\n",
            "data set contains 3 classes of 50 instances each, where each class refers to a\n",
            "type of iris plant.  One class is linearly separable from the other 2; the\n",
            "latter are NOT linearly separable from each other.\n",
            "\n",
            ".. topic:: References\n",
            "\n",
            "   - Fisher, R.A. \"The use of multiple measurements in taxonomic problems\"\n",
            "     Annual Eugenics, 7, Part II, 179-188 (1936); also in \"Contributions to\n",
            "     Mathematical Statistics\" (John Wiley, NY, 1950).\n",
            "   - Duda, R.O., & Hart, P.E. (1973) Pattern Classification and Scene Analysis.\n",
            "     (Q327.D83) John Wiley & Sons.  ISBN 0-471-22361-1.  See page 218.\n",
            "   - Dasarathy, B.V. (1980) \"Nosing Around the Neighborhood: A New System\n",
            "     Structure and Classification Rule for Recognition in Partially Exposed\n",
            "     Environments\".  IEEE Transactions on Pattern Analysis and Machine\n",
            "     Intelligence, Vol. PAMI-2, No. 1, 67-71.\n",
            "   - Gates, G.W. (1972) \"The Reduced Nearest Neighbor Rule\".  IEEE Transactions\n",
            "     on Information Theory, May 1972, 431-433.\n",
            "   - See also: 1988 MLC Proceedings, 54-64.  Cheeseman et al\"s AUTOCLASS II\n",
            "     conceptual clustering system finds 3 classes in the data.\n",
            "   - Many, many more ...\n"
          ]
        }
      ]
    },
    {
      "cell_type": "code",
      "source": [
        "# загружаем данные в датафрейм\n",
        "data = pd.DataFrame(iris.data, columns=iris.feature_names)\n",
        "data_class = iris.target"
      ],
      "metadata": {
        "id": "ddgk9l1tNBYC"
      },
      "execution_count": null,
      "outputs": []
    },
    {
      "cell_type": "markdown",
      "source": [
        "# Оставьте два признака - sepal_length и sepal_width и целевую переменную"
      ],
      "metadata": {
        "id": "KbQGNx90ORw4"
      }
    },
    {
      "cell_type": "code",
      "source": [
        "data = data.drop('petal length (cm)', axis = 1)\n",
        "data = data.drop('petal width (cm)', axis = 1)"
      ],
      "metadata": {
        "id": "vILqOW8gN0Tf"
      },
      "execution_count": null,
      "outputs": []
    },
    {
      "cell_type": "code",
      "source": [
        "data"
      ],
      "metadata": {
        "colab": {
          "base_uri": "https://localhost:8080/",
          "height": 424
        },
        "id": "nYa-E8RVNEsJ",
        "outputId": "7244c7cf-79a7-4bcb-b2ef-3e69d1bee761"
      },
      "execution_count": null,
      "outputs": [
        {
          "output_type": "execute_result",
          "data": {
            "text/plain": [
              "     sepal length (cm)  sepal width (cm)\n",
              "0                  5.1               3.5\n",
              "1                  4.9               3.0\n",
              "2                  4.7               3.2\n",
              "3                  4.6               3.1\n",
              "4                  5.0               3.6\n",
              "..                 ...               ...\n",
              "145                6.7               3.0\n",
              "146                6.3               2.5\n",
              "147                6.5               3.0\n",
              "148                6.2               3.4\n",
              "149                5.9               3.0\n",
              "\n",
              "[150 rows x 2 columns]"
            ],
            "text/html": [
              "\n",
              "  <div id=\"df-3a5717e2-b4eb-4613-a2dc-68955b0ba514\" class=\"colab-df-container\">\n",
              "    <div>\n",
              "<style scoped>\n",
              "    .dataframe tbody tr th:only-of-type {\n",
              "        vertical-align: middle;\n",
              "    }\n",
              "\n",
              "    .dataframe tbody tr th {\n",
              "        vertical-align: top;\n",
              "    }\n",
              "\n",
              "    .dataframe thead th {\n",
              "        text-align: right;\n",
              "    }\n",
              "</style>\n",
              "<table border=\"1\" class=\"dataframe\">\n",
              "  <thead>\n",
              "    <tr style=\"text-align: right;\">\n",
              "      <th></th>\n",
              "      <th>sepal length (cm)</th>\n",
              "      <th>sepal width (cm)</th>\n",
              "    </tr>\n",
              "  </thead>\n",
              "  <tbody>\n",
              "    <tr>\n",
              "      <th>0</th>\n",
              "      <td>5.1</td>\n",
              "      <td>3.5</td>\n",
              "    </tr>\n",
              "    <tr>\n",
              "      <th>1</th>\n",
              "      <td>4.9</td>\n",
              "      <td>3.0</td>\n",
              "    </tr>\n",
              "    <tr>\n",
              "      <th>2</th>\n",
              "      <td>4.7</td>\n",
              "      <td>3.2</td>\n",
              "    </tr>\n",
              "    <tr>\n",
              "      <th>3</th>\n",
              "      <td>4.6</td>\n",
              "      <td>3.1</td>\n",
              "    </tr>\n",
              "    <tr>\n",
              "      <th>4</th>\n",
              "      <td>5.0</td>\n",
              "      <td>3.6</td>\n",
              "    </tr>\n",
              "    <tr>\n",
              "      <th>...</th>\n",
              "      <td>...</td>\n",
              "      <td>...</td>\n",
              "    </tr>\n",
              "    <tr>\n",
              "      <th>145</th>\n",
              "      <td>6.7</td>\n",
              "      <td>3.0</td>\n",
              "    </tr>\n",
              "    <tr>\n",
              "      <th>146</th>\n",
              "      <td>6.3</td>\n",
              "      <td>2.5</td>\n",
              "    </tr>\n",
              "    <tr>\n",
              "      <th>147</th>\n",
              "      <td>6.5</td>\n",
              "      <td>3.0</td>\n",
              "    </tr>\n",
              "    <tr>\n",
              "      <th>148</th>\n",
              "      <td>6.2</td>\n",
              "      <td>3.4</td>\n",
              "    </tr>\n",
              "    <tr>\n",
              "      <th>149</th>\n",
              "      <td>5.9</td>\n",
              "      <td>3.0</td>\n",
              "    </tr>\n",
              "  </tbody>\n",
              "</table>\n",
              "<p>150 rows × 2 columns</p>\n",
              "</div>\n",
              "    <div class=\"colab-df-buttons\">\n",
              "\n",
              "  <div class=\"colab-df-container\">\n",
              "    <button class=\"colab-df-convert\" onclick=\"convertToInteractive('df-3a5717e2-b4eb-4613-a2dc-68955b0ba514')\"\n",
              "            title=\"Convert this dataframe to an interactive table.\"\n",
              "            style=\"display:none;\">\n",
              "\n",
              "  <svg xmlns=\"http://www.w3.org/2000/svg\" height=\"24px\" viewBox=\"0 -960 960 960\">\n",
              "    <path d=\"M120-120v-720h720v720H120Zm60-500h600v-160H180v160Zm220 220h160v-160H400v160Zm0 220h160v-160H400v160ZM180-400h160v-160H180v160Zm440 0h160v-160H620v160ZM180-180h160v-160H180v160Zm440 0h160v-160H620v160Z\"/>\n",
              "  </svg>\n",
              "    </button>\n",
              "\n",
              "  <style>\n",
              "    .colab-df-container {\n",
              "      display:flex;\n",
              "      gap: 12px;\n",
              "    }\n",
              "\n",
              "    .colab-df-convert {\n",
              "      background-color: #E8F0FE;\n",
              "      border: none;\n",
              "      border-radius: 50%;\n",
              "      cursor: pointer;\n",
              "      display: none;\n",
              "      fill: #1967D2;\n",
              "      height: 32px;\n",
              "      padding: 0 0 0 0;\n",
              "      width: 32px;\n",
              "    }\n",
              "\n",
              "    .colab-df-convert:hover {\n",
              "      background-color: #E2EBFA;\n",
              "      box-shadow: 0px 1px 2px rgba(60, 64, 67, 0.3), 0px 1px 3px 1px rgba(60, 64, 67, 0.15);\n",
              "      fill: #174EA6;\n",
              "    }\n",
              "\n",
              "    .colab-df-buttons div {\n",
              "      margin-bottom: 4px;\n",
              "    }\n",
              "\n",
              "    [theme=dark] .colab-df-convert {\n",
              "      background-color: #3B4455;\n",
              "      fill: #D2E3FC;\n",
              "    }\n",
              "\n",
              "    [theme=dark] .colab-df-convert:hover {\n",
              "      background-color: #434B5C;\n",
              "      box-shadow: 0px 1px 3px 1px rgba(0, 0, 0, 0.15);\n",
              "      filter: drop-shadow(0px 1px 2px rgba(0, 0, 0, 0.3));\n",
              "      fill: #FFFFFF;\n",
              "    }\n",
              "  </style>\n",
              "\n",
              "    <script>\n",
              "      const buttonEl =\n",
              "        document.querySelector('#df-3a5717e2-b4eb-4613-a2dc-68955b0ba514 button.colab-df-convert');\n",
              "      buttonEl.style.display =\n",
              "        google.colab.kernel.accessAllowed ? 'block' : 'none';\n",
              "\n",
              "      async function convertToInteractive(key) {\n",
              "        const element = document.querySelector('#df-3a5717e2-b4eb-4613-a2dc-68955b0ba514');\n",
              "        const dataTable =\n",
              "          await google.colab.kernel.invokeFunction('convertToInteractive',\n",
              "                                                    [key], {});\n",
              "        if (!dataTable) return;\n",
              "\n",
              "        const docLinkHtml = 'Like what you see? Visit the ' +\n",
              "          '<a target=\"_blank\" href=https://colab.research.google.com/notebooks/data_table.ipynb>data table notebook</a>'\n",
              "          + ' to learn more about interactive tables.';\n",
              "        element.innerHTML = '';\n",
              "        dataTable['output_type'] = 'display_data';\n",
              "        await google.colab.output.renderOutput(dataTable, element);\n",
              "        const docLink = document.createElement('div');\n",
              "        docLink.innerHTML = docLinkHtml;\n",
              "        element.appendChild(docLink);\n",
              "      }\n",
              "    </script>\n",
              "  </div>\n",
              "\n",
              "\n",
              "<div id=\"df-243c13e2-c5af-4d54-94f7-d137e505ac66\">\n",
              "  <button class=\"colab-df-quickchart\" onclick=\"quickchart('df-243c13e2-c5af-4d54-94f7-d137e505ac66')\"\n",
              "            title=\"Suggest charts\"\n",
              "            style=\"display:none;\">\n",
              "\n",
              "<svg xmlns=\"http://www.w3.org/2000/svg\" height=\"24px\"viewBox=\"0 0 24 24\"\n",
              "     width=\"24px\">\n",
              "    <g>\n",
              "        <path d=\"M19 3H5c-1.1 0-2 .9-2 2v14c0 1.1.9 2 2 2h14c1.1 0 2-.9 2-2V5c0-1.1-.9-2-2-2zM9 17H7v-7h2v7zm4 0h-2V7h2v10zm4 0h-2v-4h2v4z\"/>\n",
              "    </g>\n",
              "</svg>\n",
              "  </button>\n",
              "\n",
              "<style>\n",
              "  .colab-df-quickchart {\n",
              "      --bg-color: #E8F0FE;\n",
              "      --fill-color: #1967D2;\n",
              "      --hover-bg-color: #E2EBFA;\n",
              "      --hover-fill-color: #174EA6;\n",
              "      --disabled-fill-color: #AAA;\n",
              "      --disabled-bg-color: #DDD;\n",
              "  }\n",
              "\n",
              "  [theme=dark] .colab-df-quickchart {\n",
              "      --bg-color: #3B4455;\n",
              "      --fill-color: #D2E3FC;\n",
              "      --hover-bg-color: #434B5C;\n",
              "      --hover-fill-color: #FFFFFF;\n",
              "      --disabled-bg-color: #3B4455;\n",
              "      --disabled-fill-color: #666;\n",
              "  }\n",
              "\n",
              "  .colab-df-quickchart {\n",
              "    background-color: var(--bg-color);\n",
              "    border: none;\n",
              "    border-radius: 50%;\n",
              "    cursor: pointer;\n",
              "    display: none;\n",
              "    fill: var(--fill-color);\n",
              "    height: 32px;\n",
              "    padding: 0;\n",
              "    width: 32px;\n",
              "  }\n",
              "\n",
              "  .colab-df-quickchart:hover {\n",
              "    background-color: var(--hover-bg-color);\n",
              "    box-shadow: 0 1px 2px rgba(60, 64, 67, 0.3), 0 1px 3px 1px rgba(60, 64, 67, 0.15);\n",
              "    fill: var(--button-hover-fill-color);\n",
              "  }\n",
              "\n",
              "  .colab-df-quickchart-complete:disabled,\n",
              "  .colab-df-quickchart-complete:disabled:hover {\n",
              "    background-color: var(--disabled-bg-color);\n",
              "    fill: var(--disabled-fill-color);\n",
              "    box-shadow: none;\n",
              "  }\n",
              "\n",
              "  .colab-df-spinner {\n",
              "    border: 2px solid var(--fill-color);\n",
              "    border-color: transparent;\n",
              "    border-bottom-color: var(--fill-color);\n",
              "    animation:\n",
              "      spin 1s steps(1) infinite;\n",
              "  }\n",
              "\n",
              "  @keyframes spin {\n",
              "    0% {\n",
              "      border-color: transparent;\n",
              "      border-bottom-color: var(--fill-color);\n",
              "      border-left-color: var(--fill-color);\n",
              "    }\n",
              "    20% {\n",
              "      border-color: transparent;\n",
              "      border-left-color: var(--fill-color);\n",
              "      border-top-color: var(--fill-color);\n",
              "    }\n",
              "    30% {\n",
              "      border-color: transparent;\n",
              "      border-left-color: var(--fill-color);\n",
              "      border-top-color: var(--fill-color);\n",
              "      border-right-color: var(--fill-color);\n",
              "    }\n",
              "    40% {\n",
              "      border-color: transparent;\n",
              "      border-right-color: var(--fill-color);\n",
              "      border-top-color: var(--fill-color);\n",
              "    }\n",
              "    60% {\n",
              "      border-color: transparent;\n",
              "      border-right-color: var(--fill-color);\n",
              "    }\n",
              "    80% {\n",
              "      border-color: transparent;\n",
              "      border-right-color: var(--fill-color);\n",
              "      border-bottom-color: var(--fill-color);\n",
              "    }\n",
              "    90% {\n",
              "      border-color: transparent;\n",
              "      border-bottom-color: var(--fill-color);\n",
              "    }\n",
              "  }\n",
              "</style>\n",
              "\n",
              "  <script>\n",
              "    async function quickchart(key) {\n",
              "      const quickchartButtonEl =\n",
              "        document.querySelector('#' + key + ' button');\n",
              "      quickchartButtonEl.disabled = true;  // To prevent multiple clicks.\n",
              "      quickchartButtonEl.classList.add('colab-df-spinner');\n",
              "      try {\n",
              "        const charts = await google.colab.kernel.invokeFunction(\n",
              "            'suggestCharts', [key], {});\n",
              "      } catch (error) {\n",
              "        console.error('Error during call to suggestCharts:', error);\n",
              "      }\n",
              "      quickchartButtonEl.classList.remove('colab-df-spinner');\n",
              "      quickchartButtonEl.classList.add('colab-df-quickchart-complete');\n",
              "    }\n",
              "    (() => {\n",
              "      let quickchartButtonEl =\n",
              "        document.querySelector('#df-243c13e2-c5af-4d54-94f7-d137e505ac66 button');\n",
              "      quickchartButtonEl.style.display =\n",
              "        google.colab.kernel.accessAllowed ? 'block' : 'none';\n",
              "    })();\n",
              "  </script>\n",
              "</div>\n",
              "    </div>\n",
              "  </div>\n"
            ]
          },
          "metadata": {},
          "execution_count": 13
        }
      ]
    },
    {
      "cell_type": "code",
      "source": [
        "data_class"
      ],
      "metadata": {
        "colab": {
          "base_uri": "https://localhost:8080/"
        },
        "id": "5rZhoXxtNJzT",
        "outputId": "4b014cda-cd8a-444f-9411-e3d038c20797"
      },
      "execution_count": null,
      "outputs": [
        {
          "output_type": "execute_result",
          "data": {
            "text/plain": [
              "array([0, 0, 0, 0, 0, 0, 0, 0, 0, 0, 0, 0, 0, 0, 0, 0, 0, 0, 0, 0, 0, 0,\n",
              "       0, 0, 0, 0, 0, 0, 0, 0, 0, 0, 0, 0, 0, 0, 0, 0, 0, 0, 0, 0, 0, 0,\n",
              "       0, 0, 0, 0, 0, 0, 1, 1, 1, 1, 1, 1, 1, 1, 1, 1, 1, 1, 1, 1, 1, 1,\n",
              "       1, 1, 1, 1, 1, 1, 1, 1, 1, 1, 1, 1, 1, 1, 1, 1, 1, 1, 1, 1, 1, 1,\n",
              "       1, 1, 1, 1, 1, 1, 1, 1, 1, 1, 1, 1, 2, 2, 2, 2, 2, 2, 2, 2, 2, 2,\n",
              "       2, 2, 2, 2, 2, 2, 2, 2, 2, 2, 2, 2, 2, 2, 2, 2, 2, 2, 2, 2, 2, 2,\n",
              "       2, 2, 2, 2, 2, 2, 2, 2, 2, 2, 2, 2, 2, 2, 2, 2, 2, 2])"
            ]
          },
          "metadata": {},
          "execution_count": 14
        }
      ]
    },
    {
      "cell_type": "markdown",
      "source": [
        "# Разделите данные на выборку для обучения и тестирования"
      ],
      "metadata": {
        "id": "CjRJJEcrOVpr"
      }
    },
    {
      "cell_type": "code",
      "source": [
        "# разделяем выборку на тренировочную и тестовую\n",
        "from sklearn.model_selection import train_test_split\n",
        "X_train, X_test, y_train, y_test = train_test_split(data, data_class, test_size=0.25, random_state=42)"
      ],
      "metadata": {
        "id": "VyfM9Z6rOXC7"
      },
      "execution_count": null,
      "outputs": []
    },
    {
      "cell_type": "code",
      "source": [
        "len(y_test)"
      ],
      "metadata": {
        "colab": {
          "base_uri": "https://localhost:8080/"
        },
        "id": "F4YexcD0OiMN",
        "outputId": "38408e1b-7f33-4169-be34-d170a38043db"
      },
      "execution_count": null,
      "outputs": [
        {
          "output_type": "execute_result",
          "data": {
            "text/plain": [
              "38"
            ]
          },
          "metadata": {},
          "execution_count": 16
        }
      ]
    },
    {
      "cell_type": "markdown",
      "source": [
        "# Постройте модель LDA"
      ],
      "metadata": {
        "id": "U1xjGHjPOb-_"
      }
    },
    {
      "cell_type": "code",
      "source": [
        "# импортируем LDA-функционал\n",
        "from sklearn.discriminant_analysis import LinearDiscriminantAnalysis\n",
        "lda = LinearDiscriminantAnalysis()"
      ],
      "metadata": {
        "id": "O8HHOpSVOlX9"
      },
      "execution_count": null,
      "outputs": []
    },
    {
      "cell_type": "code",
      "source": [
        "# обучаем данные\n",
        "lda.fit(X_train, y_train)"
      ],
      "metadata": {
        "colab": {
          "base_uri": "https://localhost:8080/",
          "height": 76
        },
        "id": "YE_807j-O0mC",
        "outputId": "3828f9b8-add0-4bbb-b742-57483b0061c5"
      },
      "execution_count": null,
      "outputs": [
        {
          "output_type": "execute_result",
          "data": {
            "text/plain": [
              "LinearDiscriminantAnalysis()"
            ],
            "text/html": [
              "<style>#sk-container-id-1 {color: black;background-color: white;}#sk-container-id-1 pre{padding: 0;}#sk-container-id-1 div.sk-toggleable {background-color: white;}#sk-container-id-1 label.sk-toggleable__label {cursor: pointer;display: block;width: 100%;margin-bottom: 0;padding: 0.3em;box-sizing: border-box;text-align: center;}#sk-container-id-1 label.sk-toggleable__label-arrow:before {content: \"▸\";float: left;margin-right: 0.25em;color: #696969;}#sk-container-id-1 label.sk-toggleable__label-arrow:hover:before {color: black;}#sk-container-id-1 div.sk-estimator:hover label.sk-toggleable__label-arrow:before {color: black;}#sk-container-id-1 div.sk-toggleable__content {max-height: 0;max-width: 0;overflow: hidden;text-align: left;background-color: #f0f8ff;}#sk-container-id-1 div.sk-toggleable__content pre {margin: 0.2em;color: black;border-radius: 0.25em;background-color: #f0f8ff;}#sk-container-id-1 input.sk-toggleable__control:checked~div.sk-toggleable__content {max-height: 200px;max-width: 100%;overflow: auto;}#sk-container-id-1 input.sk-toggleable__control:checked~label.sk-toggleable__label-arrow:before {content: \"▾\";}#sk-container-id-1 div.sk-estimator input.sk-toggleable__control:checked~label.sk-toggleable__label {background-color: #d4ebff;}#sk-container-id-1 div.sk-label input.sk-toggleable__control:checked~label.sk-toggleable__label {background-color: #d4ebff;}#sk-container-id-1 input.sk-hidden--visually {border: 0;clip: rect(1px 1px 1px 1px);clip: rect(1px, 1px, 1px, 1px);height: 1px;margin: -1px;overflow: hidden;padding: 0;position: absolute;width: 1px;}#sk-container-id-1 div.sk-estimator {font-family: monospace;background-color: #f0f8ff;border: 1px dotted black;border-radius: 0.25em;box-sizing: border-box;margin-bottom: 0.5em;}#sk-container-id-1 div.sk-estimator:hover {background-color: #d4ebff;}#sk-container-id-1 div.sk-parallel-item::after {content: \"\";width: 100%;border-bottom: 1px solid gray;flex-grow: 1;}#sk-container-id-1 div.sk-label:hover label.sk-toggleable__label {background-color: #d4ebff;}#sk-container-id-1 div.sk-serial::before {content: \"\";position: absolute;border-left: 1px solid gray;box-sizing: border-box;top: 0;bottom: 0;left: 50%;z-index: 0;}#sk-container-id-1 div.sk-serial {display: flex;flex-direction: column;align-items: center;background-color: white;padding-right: 0.2em;padding-left: 0.2em;position: relative;}#sk-container-id-1 div.sk-item {position: relative;z-index: 1;}#sk-container-id-1 div.sk-parallel {display: flex;align-items: stretch;justify-content: center;background-color: white;position: relative;}#sk-container-id-1 div.sk-item::before, #sk-container-id-1 div.sk-parallel-item::before {content: \"\";position: absolute;border-left: 1px solid gray;box-sizing: border-box;top: 0;bottom: 0;left: 50%;z-index: -1;}#sk-container-id-1 div.sk-parallel-item {display: flex;flex-direction: column;z-index: 1;position: relative;background-color: white;}#sk-container-id-1 div.sk-parallel-item:first-child::after {align-self: flex-end;width: 50%;}#sk-container-id-1 div.sk-parallel-item:last-child::after {align-self: flex-start;width: 50%;}#sk-container-id-1 div.sk-parallel-item:only-child::after {width: 0;}#sk-container-id-1 div.sk-dashed-wrapped {border: 1px dashed gray;margin: 0 0.4em 0.5em 0.4em;box-sizing: border-box;padding-bottom: 0.4em;background-color: white;}#sk-container-id-1 div.sk-label label {font-family: monospace;font-weight: bold;display: inline-block;line-height: 1.2em;}#sk-container-id-1 div.sk-label-container {text-align: center;}#sk-container-id-1 div.sk-container {/* jupyter's `normalize.less` sets `[hidden] { display: none; }` but bootstrap.min.css set `[hidden] { display: none !important; }` so we also need the `!important` here to be able to override the default hidden behavior on the sphinx rendered scikit-learn.org. See: https://github.com/scikit-learn/scikit-learn/issues/21755 */display: inline-block !important;position: relative;}#sk-container-id-1 div.sk-text-repr-fallback {display: none;}</style><div id=\"sk-container-id-1\" class=\"sk-top-container\"><div class=\"sk-text-repr-fallback\"><pre>LinearDiscriminantAnalysis()</pre><b>In a Jupyter environment, please rerun this cell to show the HTML representation or trust the notebook. <br />On GitHub, the HTML representation is unable to render, please try loading this page with nbviewer.org.</b></div><div class=\"sk-container\" hidden><div class=\"sk-item\"><div class=\"sk-estimator sk-toggleable\"><input class=\"sk-toggleable__control sk-hidden--visually\" id=\"sk-estimator-id-1\" type=\"checkbox\" checked><label for=\"sk-estimator-id-1\" class=\"sk-toggleable__label sk-toggleable__label-arrow\">LinearDiscriminantAnalysis</label><div class=\"sk-toggleable__content\"><pre>LinearDiscriminantAnalysis()</pre></div></div></div></div></div>"
            ]
          },
          "metadata": {},
          "execution_count": 19
        }
      ]
    },
    {
      "cell_type": "code",
      "source": [
        "# делаем прогноз на тестовой выборке\n",
        "lda.predict(X_test)"
      ],
      "metadata": {
        "colab": {
          "base_uri": "https://localhost:8080/"
        },
        "id": "ORqselYTOuFp",
        "outputId": "3e2453ed-0940-4080-81ce-ee4620a57e4e"
      },
      "execution_count": null,
      "outputs": [
        {
          "output_type": "execute_result",
          "data": {
            "text/plain": [
              "array([1, 0, 2, 1, 2, 0, 1, 2, 1, 1, 2, 0, 0, 0, 0, 2, 2, 1, 1, 2, 0, 1,\n",
              "       0, 2, 2, 2, 2, 2, 0, 0, 0, 0, 2, 0, 0, 2, 2, 0])"
            ]
          },
          "metadata": {},
          "execution_count": 20
        }
      ]
    },
    {
      "cell_type": "code",
      "source": [
        "# смотрим разницу факта и прогноза\n",
        "result = pd.DataFrame([y_test, lda.predict(X_test)]).T\n",
        "result"
      ],
      "metadata": {
        "colab": {
          "base_uri": "https://localhost:8080/",
          "height": 1000
        },
        "id": "kb90VIl3O3gv",
        "outputId": "490f5ff7-713a-4eeb-9868-9b20f0050d63"
      },
      "execution_count": null,
      "outputs": [
        {
          "output_type": "execute_result",
          "data": {
            "text/plain": [
              "    0  1\n",
              "0   1  1\n",
              "1   0  0\n",
              "2   2  2\n",
              "3   1  1\n",
              "4   1  2\n",
              "5   0  0\n",
              "6   1  1\n",
              "7   2  2\n",
              "8   1  1\n",
              "9   1  1\n",
              "10  2  2\n",
              "11  0  0\n",
              "12  0  0\n",
              "13  0  0\n",
              "14  0  0\n",
              "15  1  2\n",
              "16  2  2\n",
              "17  1  1\n",
              "18  1  1\n",
              "19  2  2\n",
              "20  0  0\n",
              "21  2  1\n",
              "22  0  0\n",
              "23  2  2\n",
              "24  2  2\n",
              "25  2  2\n",
              "26  2  2\n",
              "27  2  2\n",
              "28  0  0\n",
              "29  0  0\n",
              "30  0  0\n",
              "31  0  0\n",
              "32  1  2\n",
              "33  0  0\n",
              "34  0  0\n",
              "35  2  2\n",
              "36  1  2\n",
              "37  0  0"
            ],
            "text/html": [
              "\n",
              "  <div id=\"df-1a6ace68-5711-4d14-b90d-3c9aa8a762eb\" class=\"colab-df-container\">\n",
              "    <div>\n",
              "<style scoped>\n",
              "    .dataframe tbody tr th:only-of-type {\n",
              "        vertical-align: middle;\n",
              "    }\n",
              "\n",
              "    .dataframe tbody tr th {\n",
              "        vertical-align: top;\n",
              "    }\n",
              "\n",
              "    .dataframe thead th {\n",
              "        text-align: right;\n",
              "    }\n",
              "</style>\n",
              "<table border=\"1\" class=\"dataframe\">\n",
              "  <thead>\n",
              "    <tr style=\"text-align: right;\">\n",
              "      <th></th>\n",
              "      <th>0</th>\n",
              "      <th>1</th>\n",
              "    </tr>\n",
              "  </thead>\n",
              "  <tbody>\n",
              "    <tr>\n",
              "      <th>0</th>\n",
              "      <td>1</td>\n",
              "      <td>1</td>\n",
              "    </tr>\n",
              "    <tr>\n",
              "      <th>1</th>\n",
              "      <td>0</td>\n",
              "      <td>0</td>\n",
              "    </tr>\n",
              "    <tr>\n",
              "      <th>2</th>\n",
              "      <td>2</td>\n",
              "      <td>2</td>\n",
              "    </tr>\n",
              "    <tr>\n",
              "      <th>3</th>\n",
              "      <td>1</td>\n",
              "      <td>1</td>\n",
              "    </tr>\n",
              "    <tr>\n",
              "      <th>4</th>\n",
              "      <td>1</td>\n",
              "      <td>2</td>\n",
              "    </tr>\n",
              "    <tr>\n",
              "      <th>5</th>\n",
              "      <td>0</td>\n",
              "      <td>0</td>\n",
              "    </tr>\n",
              "    <tr>\n",
              "      <th>6</th>\n",
              "      <td>1</td>\n",
              "      <td>1</td>\n",
              "    </tr>\n",
              "    <tr>\n",
              "      <th>7</th>\n",
              "      <td>2</td>\n",
              "      <td>2</td>\n",
              "    </tr>\n",
              "    <tr>\n",
              "      <th>8</th>\n",
              "      <td>1</td>\n",
              "      <td>1</td>\n",
              "    </tr>\n",
              "    <tr>\n",
              "      <th>9</th>\n",
              "      <td>1</td>\n",
              "      <td>1</td>\n",
              "    </tr>\n",
              "    <tr>\n",
              "      <th>10</th>\n",
              "      <td>2</td>\n",
              "      <td>2</td>\n",
              "    </tr>\n",
              "    <tr>\n",
              "      <th>11</th>\n",
              "      <td>0</td>\n",
              "      <td>0</td>\n",
              "    </tr>\n",
              "    <tr>\n",
              "      <th>12</th>\n",
              "      <td>0</td>\n",
              "      <td>0</td>\n",
              "    </tr>\n",
              "    <tr>\n",
              "      <th>13</th>\n",
              "      <td>0</td>\n",
              "      <td>0</td>\n",
              "    </tr>\n",
              "    <tr>\n",
              "      <th>14</th>\n",
              "      <td>0</td>\n",
              "      <td>0</td>\n",
              "    </tr>\n",
              "    <tr>\n",
              "      <th>15</th>\n",
              "      <td>1</td>\n",
              "      <td>2</td>\n",
              "    </tr>\n",
              "    <tr>\n",
              "      <th>16</th>\n",
              "      <td>2</td>\n",
              "      <td>2</td>\n",
              "    </tr>\n",
              "    <tr>\n",
              "      <th>17</th>\n",
              "      <td>1</td>\n",
              "      <td>1</td>\n",
              "    </tr>\n",
              "    <tr>\n",
              "      <th>18</th>\n",
              "      <td>1</td>\n",
              "      <td>1</td>\n",
              "    </tr>\n",
              "    <tr>\n",
              "      <th>19</th>\n",
              "      <td>2</td>\n",
              "      <td>2</td>\n",
              "    </tr>\n",
              "    <tr>\n",
              "      <th>20</th>\n",
              "      <td>0</td>\n",
              "      <td>0</td>\n",
              "    </tr>\n",
              "    <tr>\n",
              "      <th>21</th>\n",
              "      <td>2</td>\n",
              "      <td>1</td>\n",
              "    </tr>\n",
              "    <tr>\n",
              "      <th>22</th>\n",
              "      <td>0</td>\n",
              "      <td>0</td>\n",
              "    </tr>\n",
              "    <tr>\n",
              "      <th>23</th>\n",
              "      <td>2</td>\n",
              "      <td>2</td>\n",
              "    </tr>\n",
              "    <tr>\n",
              "      <th>24</th>\n",
              "      <td>2</td>\n",
              "      <td>2</td>\n",
              "    </tr>\n",
              "    <tr>\n",
              "      <th>25</th>\n",
              "      <td>2</td>\n",
              "      <td>2</td>\n",
              "    </tr>\n",
              "    <tr>\n",
              "      <th>26</th>\n",
              "      <td>2</td>\n",
              "      <td>2</td>\n",
              "    </tr>\n",
              "    <tr>\n",
              "      <th>27</th>\n",
              "      <td>2</td>\n",
              "      <td>2</td>\n",
              "    </tr>\n",
              "    <tr>\n",
              "      <th>28</th>\n",
              "      <td>0</td>\n",
              "      <td>0</td>\n",
              "    </tr>\n",
              "    <tr>\n",
              "      <th>29</th>\n",
              "      <td>0</td>\n",
              "      <td>0</td>\n",
              "    </tr>\n",
              "    <tr>\n",
              "      <th>30</th>\n",
              "      <td>0</td>\n",
              "      <td>0</td>\n",
              "    </tr>\n",
              "    <tr>\n",
              "      <th>31</th>\n",
              "      <td>0</td>\n",
              "      <td>0</td>\n",
              "    </tr>\n",
              "    <tr>\n",
              "      <th>32</th>\n",
              "      <td>1</td>\n",
              "      <td>2</td>\n",
              "    </tr>\n",
              "    <tr>\n",
              "      <th>33</th>\n",
              "      <td>0</td>\n",
              "      <td>0</td>\n",
              "    </tr>\n",
              "    <tr>\n",
              "      <th>34</th>\n",
              "      <td>0</td>\n",
              "      <td>0</td>\n",
              "    </tr>\n",
              "    <tr>\n",
              "      <th>35</th>\n",
              "      <td>2</td>\n",
              "      <td>2</td>\n",
              "    </tr>\n",
              "    <tr>\n",
              "      <th>36</th>\n",
              "      <td>1</td>\n",
              "      <td>2</td>\n",
              "    </tr>\n",
              "    <tr>\n",
              "      <th>37</th>\n",
              "      <td>0</td>\n",
              "      <td>0</td>\n",
              "    </tr>\n",
              "  </tbody>\n",
              "</table>\n",
              "</div>\n",
              "    <div class=\"colab-df-buttons\">\n",
              "\n",
              "  <div class=\"colab-df-container\">\n",
              "    <button class=\"colab-df-convert\" onclick=\"convertToInteractive('df-1a6ace68-5711-4d14-b90d-3c9aa8a762eb')\"\n",
              "            title=\"Convert this dataframe to an interactive table.\"\n",
              "            style=\"display:none;\">\n",
              "\n",
              "  <svg xmlns=\"http://www.w3.org/2000/svg\" height=\"24px\" viewBox=\"0 -960 960 960\">\n",
              "    <path d=\"M120-120v-720h720v720H120Zm60-500h600v-160H180v160Zm220 220h160v-160H400v160Zm0 220h160v-160H400v160ZM180-400h160v-160H180v160Zm440 0h160v-160H620v160ZM180-180h160v-160H180v160Zm440 0h160v-160H620v160Z\"/>\n",
              "  </svg>\n",
              "    </button>\n",
              "\n",
              "  <style>\n",
              "    .colab-df-container {\n",
              "      display:flex;\n",
              "      gap: 12px;\n",
              "    }\n",
              "\n",
              "    .colab-df-convert {\n",
              "      background-color: #E8F0FE;\n",
              "      border: none;\n",
              "      border-radius: 50%;\n",
              "      cursor: pointer;\n",
              "      display: none;\n",
              "      fill: #1967D2;\n",
              "      height: 32px;\n",
              "      padding: 0 0 0 0;\n",
              "      width: 32px;\n",
              "    }\n",
              "\n",
              "    .colab-df-convert:hover {\n",
              "      background-color: #E2EBFA;\n",
              "      box-shadow: 0px 1px 2px rgba(60, 64, 67, 0.3), 0px 1px 3px 1px rgba(60, 64, 67, 0.15);\n",
              "      fill: #174EA6;\n",
              "    }\n",
              "\n",
              "    .colab-df-buttons div {\n",
              "      margin-bottom: 4px;\n",
              "    }\n",
              "\n",
              "    [theme=dark] .colab-df-convert {\n",
              "      background-color: #3B4455;\n",
              "      fill: #D2E3FC;\n",
              "    }\n",
              "\n",
              "    [theme=dark] .colab-df-convert:hover {\n",
              "      background-color: #434B5C;\n",
              "      box-shadow: 0px 1px 3px 1px rgba(0, 0, 0, 0.15);\n",
              "      filter: drop-shadow(0px 1px 2px rgba(0, 0, 0, 0.3));\n",
              "      fill: #FFFFFF;\n",
              "    }\n",
              "  </style>\n",
              "\n",
              "    <script>\n",
              "      const buttonEl =\n",
              "        document.querySelector('#df-1a6ace68-5711-4d14-b90d-3c9aa8a762eb button.colab-df-convert');\n",
              "      buttonEl.style.display =\n",
              "        google.colab.kernel.accessAllowed ? 'block' : 'none';\n",
              "\n",
              "      async function convertToInteractive(key) {\n",
              "        const element = document.querySelector('#df-1a6ace68-5711-4d14-b90d-3c9aa8a762eb');\n",
              "        const dataTable =\n",
              "          await google.colab.kernel.invokeFunction('convertToInteractive',\n",
              "                                                    [key], {});\n",
              "        if (!dataTable) return;\n",
              "\n",
              "        const docLinkHtml = 'Like what you see? Visit the ' +\n",
              "          '<a target=\"_blank\" href=https://colab.research.google.com/notebooks/data_table.ipynb>data table notebook</a>'\n",
              "          + ' to learn more about interactive tables.';\n",
              "        element.innerHTML = '';\n",
              "        dataTable['output_type'] = 'display_data';\n",
              "        await google.colab.output.renderOutput(dataTable, element);\n",
              "        const docLink = document.createElement('div');\n",
              "        docLink.innerHTML = docLinkHtml;\n",
              "        element.appendChild(docLink);\n",
              "      }\n",
              "    </script>\n",
              "  </div>\n",
              "\n",
              "\n",
              "<div id=\"df-0b16c44d-7411-49ed-88c2-6836d1d03f9a\">\n",
              "  <button class=\"colab-df-quickchart\" onclick=\"quickchart('df-0b16c44d-7411-49ed-88c2-6836d1d03f9a')\"\n",
              "            title=\"Suggest charts\"\n",
              "            style=\"display:none;\">\n",
              "\n",
              "<svg xmlns=\"http://www.w3.org/2000/svg\" height=\"24px\"viewBox=\"0 0 24 24\"\n",
              "     width=\"24px\">\n",
              "    <g>\n",
              "        <path d=\"M19 3H5c-1.1 0-2 .9-2 2v14c0 1.1.9 2 2 2h14c1.1 0 2-.9 2-2V5c0-1.1-.9-2-2-2zM9 17H7v-7h2v7zm4 0h-2V7h2v10zm4 0h-2v-4h2v4z\"/>\n",
              "    </g>\n",
              "</svg>\n",
              "  </button>\n",
              "\n",
              "<style>\n",
              "  .colab-df-quickchart {\n",
              "      --bg-color: #E8F0FE;\n",
              "      --fill-color: #1967D2;\n",
              "      --hover-bg-color: #E2EBFA;\n",
              "      --hover-fill-color: #174EA6;\n",
              "      --disabled-fill-color: #AAA;\n",
              "      --disabled-bg-color: #DDD;\n",
              "  }\n",
              "\n",
              "  [theme=dark] .colab-df-quickchart {\n",
              "      --bg-color: #3B4455;\n",
              "      --fill-color: #D2E3FC;\n",
              "      --hover-bg-color: #434B5C;\n",
              "      --hover-fill-color: #FFFFFF;\n",
              "      --disabled-bg-color: #3B4455;\n",
              "      --disabled-fill-color: #666;\n",
              "  }\n",
              "\n",
              "  .colab-df-quickchart {\n",
              "    background-color: var(--bg-color);\n",
              "    border: none;\n",
              "    border-radius: 50%;\n",
              "    cursor: pointer;\n",
              "    display: none;\n",
              "    fill: var(--fill-color);\n",
              "    height: 32px;\n",
              "    padding: 0;\n",
              "    width: 32px;\n",
              "  }\n",
              "\n",
              "  .colab-df-quickchart:hover {\n",
              "    background-color: var(--hover-bg-color);\n",
              "    box-shadow: 0 1px 2px rgba(60, 64, 67, 0.3), 0 1px 3px 1px rgba(60, 64, 67, 0.15);\n",
              "    fill: var(--button-hover-fill-color);\n",
              "  }\n",
              "\n",
              "  .colab-df-quickchart-complete:disabled,\n",
              "  .colab-df-quickchart-complete:disabled:hover {\n",
              "    background-color: var(--disabled-bg-color);\n",
              "    fill: var(--disabled-fill-color);\n",
              "    box-shadow: none;\n",
              "  }\n",
              "\n",
              "  .colab-df-spinner {\n",
              "    border: 2px solid var(--fill-color);\n",
              "    border-color: transparent;\n",
              "    border-bottom-color: var(--fill-color);\n",
              "    animation:\n",
              "      spin 1s steps(1) infinite;\n",
              "  }\n",
              "\n",
              "  @keyframes spin {\n",
              "    0% {\n",
              "      border-color: transparent;\n",
              "      border-bottom-color: var(--fill-color);\n",
              "      border-left-color: var(--fill-color);\n",
              "    }\n",
              "    20% {\n",
              "      border-color: transparent;\n",
              "      border-left-color: var(--fill-color);\n",
              "      border-top-color: var(--fill-color);\n",
              "    }\n",
              "    30% {\n",
              "      border-color: transparent;\n",
              "      border-left-color: var(--fill-color);\n",
              "      border-top-color: var(--fill-color);\n",
              "      border-right-color: var(--fill-color);\n",
              "    }\n",
              "    40% {\n",
              "      border-color: transparent;\n",
              "      border-right-color: var(--fill-color);\n",
              "      border-top-color: var(--fill-color);\n",
              "    }\n",
              "    60% {\n",
              "      border-color: transparent;\n",
              "      border-right-color: var(--fill-color);\n",
              "    }\n",
              "    80% {\n",
              "      border-color: transparent;\n",
              "      border-right-color: var(--fill-color);\n",
              "      border-bottom-color: var(--fill-color);\n",
              "    }\n",
              "    90% {\n",
              "      border-color: transparent;\n",
              "      border-bottom-color: var(--fill-color);\n",
              "    }\n",
              "  }\n",
              "</style>\n",
              "\n",
              "  <script>\n",
              "    async function quickchart(key) {\n",
              "      const quickchartButtonEl =\n",
              "        document.querySelector('#' + key + ' button');\n",
              "      quickchartButtonEl.disabled = true;  // To prevent multiple clicks.\n",
              "      quickchartButtonEl.classList.add('colab-df-spinner');\n",
              "      try {\n",
              "        const charts = await google.colab.kernel.invokeFunction(\n",
              "            'suggestCharts', [key], {});\n",
              "      } catch (error) {\n",
              "        console.error('Error during call to suggestCharts:', error);\n",
              "      }\n",
              "      quickchartButtonEl.classList.remove('colab-df-spinner');\n",
              "      quickchartButtonEl.classList.add('colab-df-quickchart-complete');\n",
              "    }\n",
              "    (() => {\n",
              "      let quickchartButtonEl =\n",
              "        document.querySelector('#df-0b16c44d-7411-49ed-88c2-6836d1d03f9a button');\n",
              "      quickchartButtonEl.style.display =\n",
              "        google.colab.kernel.accessAllowed ? 'block' : 'none';\n",
              "    })();\n",
              "  </script>\n",
              "</div>\n",
              "    </div>\n",
              "  </div>\n"
            ]
          },
          "metadata": {},
          "execution_count": 23
        }
      ]
    },
    {
      "cell_type": "markdown",
      "source": [
        "# Визуализируйте предсказания для тестовой выборки и центры классов (разделяющую плоскость можно не строить, но обратите внимание, что класса 3)."
      ],
      "metadata": {
        "id": "iQYMlLp6PF0s"
      }
    },
    {
      "cell_type": "code",
      "source": [
        "# расчет точности - отношение верных прогнозов к общему количеству позиций\n",
        "# является хорошей метрикой для сбалансированных классов\n",
        "# (наблюдений в категориях примерно одинаковое количество)\n",
        "\n",
        "from sklearn.metrics import accuracy_score"
      ],
      "metadata": {
        "id": "acUWdeBePAQb"
      },
      "execution_count": null,
      "outputs": []
    },
    {
      "cell_type": "code",
      "source": [
        "accuracy_score(y_test, lda.predict(X_test))"
      ],
      "metadata": {
        "colab": {
          "base_uri": "https://localhost:8080/"
        },
        "id": "gezNpnHfPKSM",
        "outputId": "e4ab8de4-2ae8-4ed4-e063-74b5e295d496"
      },
      "execution_count": null,
      "outputs": [
        {
          "output_type": "execute_result",
          "data": {
            "text/plain": [
              "0.868421052631579"
            ]
          },
          "metadata": {},
          "execution_count": 25
        }
      ]
    },
    {
      "cell_type": "code",
      "source": [
        "# визуализируем дискриминантные линии только по 2 признакам\n",
        "small_train = X_train[['sepal length (cm)', 'sepal width (cm)']]\n",
        "small_test = X_test[['sepal length (cm)', 'sepal width (cm)']]"
      ],
      "metadata": {
        "id": "d8e8Z7J_PL5h"
      },
      "execution_count": null,
      "outputs": []
    },
    {
      "cell_type": "code",
      "source": [
        "X_train[['sepal length (cm)', 'sepal width (cm)']]"
      ],
      "metadata": {
        "colab": {
          "base_uri": "https://localhost:8080/",
          "height": 424
        },
        "id": "amYAhyQYPNpj",
        "outputId": "d0420d06-a085-4d25-a364-143ca699b8ba"
      },
      "execution_count": null,
      "outputs": [
        {
          "output_type": "execute_result",
          "data": {
            "text/plain": [
              "     sepal length (cm)  sepal width (cm)\n",
              "4                  5.0               3.6\n",
              "32                 5.2               4.1\n",
              "142                5.8               2.7\n",
              "85                 6.0               3.4\n",
              "86                 6.7               3.1\n",
              "..                 ...               ...\n",
              "71                 6.1               2.8\n",
              "106                4.9               2.5\n",
              "14                 5.8               4.0\n",
              "92                 5.8               2.6\n",
              "102                7.1               3.0\n",
              "\n",
              "[112 rows x 2 columns]"
            ],
            "text/html": [
              "\n",
              "  <div id=\"df-bbffaa31-1a8b-4a7b-a536-55899d35b9a8\" class=\"colab-df-container\">\n",
              "    <div>\n",
              "<style scoped>\n",
              "    .dataframe tbody tr th:only-of-type {\n",
              "        vertical-align: middle;\n",
              "    }\n",
              "\n",
              "    .dataframe tbody tr th {\n",
              "        vertical-align: top;\n",
              "    }\n",
              "\n",
              "    .dataframe thead th {\n",
              "        text-align: right;\n",
              "    }\n",
              "</style>\n",
              "<table border=\"1\" class=\"dataframe\">\n",
              "  <thead>\n",
              "    <tr style=\"text-align: right;\">\n",
              "      <th></th>\n",
              "      <th>sepal length (cm)</th>\n",
              "      <th>sepal width (cm)</th>\n",
              "    </tr>\n",
              "  </thead>\n",
              "  <tbody>\n",
              "    <tr>\n",
              "      <th>4</th>\n",
              "      <td>5.0</td>\n",
              "      <td>3.6</td>\n",
              "    </tr>\n",
              "    <tr>\n",
              "      <th>32</th>\n",
              "      <td>5.2</td>\n",
              "      <td>4.1</td>\n",
              "    </tr>\n",
              "    <tr>\n",
              "      <th>142</th>\n",
              "      <td>5.8</td>\n",
              "      <td>2.7</td>\n",
              "    </tr>\n",
              "    <tr>\n",
              "      <th>85</th>\n",
              "      <td>6.0</td>\n",
              "      <td>3.4</td>\n",
              "    </tr>\n",
              "    <tr>\n",
              "      <th>86</th>\n",
              "      <td>6.7</td>\n",
              "      <td>3.1</td>\n",
              "    </tr>\n",
              "    <tr>\n",
              "      <th>...</th>\n",
              "      <td>...</td>\n",
              "      <td>...</td>\n",
              "    </tr>\n",
              "    <tr>\n",
              "      <th>71</th>\n",
              "      <td>6.1</td>\n",
              "      <td>2.8</td>\n",
              "    </tr>\n",
              "    <tr>\n",
              "      <th>106</th>\n",
              "      <td>4.9</td>\n",
              "      <td>2.5</td>\n",
              "    </tr>\n",
              "    <tr>\n",
              "      <th>14</th>\n",
              "      <td>5.8</td>\n",
              "      <td>4.0</td>\n",
              "    </tr>\n",
              "    <tr>\n",
              "      <th>92</th>\n",
              "      <td>5.8</td>\n",
              "      <td>2.6</td>\n",
              "    </tr>\n",
              "    <tr>\n",
              "      <th>102</th>\n",
              "      <td>7.1</td>\n",
              "      <td>3.0</td>\n",
              "    </tr>\n",
              "  </tbody>\n",
              "</table>\n",
              "<p>112 rows × 2 columns</p>\n",
              "</div>\n",
              "    <div class=\"colab-df-buttons\">\n",
              "\n",
              "  <div class=\"colab-df-container\">\n",
              "    <button class=\"colab-df-convert\" onclick=\"convertToInteractive('df-bbffaa31-1a8b-4a7b-a536-55899d35b9a8')\"\n",
              "            title=\"Convert this dataframe to an interactive table.\"\n",
              "            style=\"display:none;\">\n",
              "\n",
              "  <svg xmlns=\"http://www.w3.org/2000/svg\" height=\"24px\" viewBox=\"0 -960 960 960\">\n",
              "    <path d=\"M120-120v-720h720v720H120Zm60-500h600v-160H180v160Zm220 220h160v-160H400v160Zm0 220h160v-160H400v160ZM180-400h160v-160H180v160Zm440 0h160v-160H620v160ZM180-180h160v-160H180v160Zm440 0h160v-160H620v160Z\"/>\n",
              "  </svg>\n",
              "    </button>\n",
              "\n",
              "  <style>\n",
              "    .colab-df-container {\n",
              "      display:flex;\n",
              "      gap: 12px;\n",
              "    }\n",
              "\n",
              "    .colab-df-convert {\n",
              "      background-color: #E8F0FE;\n",
              "      border: none;\n",
              "      border-radius: 50%;\n",
              "      cursor: pointer;\n",
              "      display: none;\n",
              "      fill: #1967D2;\n",
              "      height: 32px;\n",
              "      padding: 0 0 0 0;\n",
              "      width: 32px;\n",
              "    }\n",
              "\n",
              "    .colab-df-convert:hover {\n",
              "      background-color: #E2EBFA;\n",
              "      box-shadow: 0px 1px 2px rgba(60, 64, 67, 0.3), 0px 1px 3px 1px rgba(60, 64, 67, 0.15);\n",
              "      fill: #174EA6;\n",
              "    }\n",
              "\n",
              "    .colab-df-buttons div {\n",
              "      margin-bottom: 4px;\n",
              "    }\n",
              "\n",
              "    [theme=dark] .colab-df-convert {\n",
              "      background-color: #3B4455;\n",
              "      fill: #D2E3FC;\n",
              "    }\n",
              "\n",
              "    [theme=dark] .colab-df-convert:hover {\n",
              "      background-color: #434B5C;\n",
              "      box-shadow: 0px 1px 3px 1px rgba(0, 0, 0, 0.15);\n",
              "      filter: drop-shadow(0px 1px 2px rgba(0, 0, 0, 0.3));\n",
              "      fill: #FFFFFF;\n",
              "    }\n",
              "  </style>\n",
              "\n",
              "    <script>\n",
              "      const buttonEl =\n",
              "        document.querySelector('#df-bbffaa31-1a8b-4a7b-a536-55899d35b9a8 button.colab-df-convert');\n",
              "      buttonEl.style.display =\n",
              "        google.colab.kernel.accessAllowed ? 'block' : 'none';\n",
              "\n",
              "      async function convertToInteractive(key) {\n",
              "        const element = document.querySelector('#df-bbffaa31-1a8b-4a7b-a536-55899d35b9a8');\n",
              "        const dataTable =\n",
              "          await google.colab.kernel.invokeFunction('convertToInteractive',\n",
              "                                                    [key], {});\n",
              "        if (!dataTable) return;\n",
              "\n",
              "        const docLinkHtml = 'Like what you see? Visit the ' +\n",
              "          '<a target=\"_blank\" href=https://colab.research.google.com/notebooks/data_table.ipynb>data table notebook</a>'\n",
              "          + ' to learn more about interactive tables.';\n",
              "        element.innerHTML = '';\n",
              "        dataTable['output_type'] = 'display_data';\n",
              "        await google.colab.output.renderOutput(dataTable, element);\n",
              "        const docLink = document.createElement('div');\n",
              "        docLink.innerHTML = docLinkHtml;\n",
              "        element.appendChild(docLink);\n",
              "      }\n",
              "    </script>\n",
              "  </div>\n",
              "\n",
              "\n",
              "<div id=\"df-ff4a3c02-1ef8-479c-b330-e84eb2a1bcfe\">\n",
              "  <button class=\"colab-df-quickchart\" onclick=\"quickchart('df-ff4a3c02-1ef8-479c-b330-e84eb2a1bcfe')\"\n",
              "            title=\"Suggest charts\"\n",
              "            style=\"display:none;\">\n",
              "\n",
              "<svg xmlns=\"http://www.w3.org/2000/svg\" height=\"24px\"viewBox=\"0 0 24 24\"\n",
              "     width=\"24px\">\n",
              "    <g>\n",
              "        <path d=\"M19 3H5c-1.1 0-2 .9-2 2v14c0 1.1.9 2 2 2h14c1.1 0 2-.9 2-2V5c0-1.1-.9-2-2-2zM9 17H7v-7h2v7zm4 0h-2V7h2v10zm4 0h-2v-4h2v4z\"/>\n",
              "    </g>\n",
              "</svg>\n",
              "  </button>\n",
              "\n",
              "<style>\n",
              "  .colab-df-quickchart {\n",
              "      --bg-color: #E8F0FE;\n",
              "      --fill-color: #1967D2;\n",
              "      --hover-bg-color: #E2EBFA;\n",
              "      --hover-fill-color: #174EA6;\n",
              "      --disabled-fill-color: #AAA;\n",
              "      --disabled-bg-color: #DDD;\n",
              "  }\n",
              "\n",
              "  [theme=dark] .colab-df-quickchart {\n",
              "      --bg-color: #3B4455;\n",
              "      --fill-color: #D2E3FC;\n",
              "      --hover-bg-color: #434B5C;\n",
              "      --hover-fill-color: #FFFFFF;\n",
              "      --disabled-bg-color: #3B4455;\n",
              "      --disabled-fill-color: #666;\n",
              "  }\n",
              "\n",
              "  .colab-df-quickchart {\n",
              "    background-color: var(--bg-color);\n",
              "    border: none;\n",
              "    border-radius: 50%;\n",
              "    cursor: pointer;\n",
              "    display: none;\n",
              "    fill: var(--fill-color);\n",
              "    height: 32px;\n",
              "    padding: 0;\n",
              "    width: 32px;\n",
              "  }\n",
              "\n",
              "  .colab-df-quickchart:hover {\n",
              "    background-color: var(--hover-bg-color);\n",
              "    box-shadow: 0 1px 2px rgba(60, 64, 67, 0.3), 0 1px 3px 1px rgba(60, 64, 67, 0.15);\n",
              "    fill: var(--button-hover-fill-color);\n",
              "  }\n",
              "\n",
              "  .colab-df-quickchart-complete:disabled,\n",
              "  .colab-df-quickchart-complete:disabled:hover {\n",
              "    background-color: var(--disabled-bg-color);\n",
              "    fill: var(--disabled-fill-color);\n",
              "    box-shadow: none;\n",
              "  }\n",
              "\n",
              "  .colab-df-spinner {\n",
              "    border: 2px solid var(--fill-color);\n",
              "    border-color: transparent;\n",
              "    border-bottom-color: var(--fill-color);\n",
              "    animation:\n",
              "      spin 1s steps(1) infinite;\n",
              "  }\n",
              "\n",
              "  @keyframes spin {\n",
              "    0% {\n",
              "      border-color: transparent;\n",
              "      border-bottom-color: var(--fill-color);\n",
              "      border-left-color: var(--fill-color);\n",
              "    }\n",
              "    20% {\n",
              "      border-color: transparent;\n",
              "      border-left-color: var(--fill-color);\n",
              "      border-top-color: var(--fill-color);\n",
              "    }\n",
              "    30% {\n",
              "      border-color: transparent;\n",
              "      border-left-color: var(--fill-color);\n",
              "      border-top-color: var(--fill-color);\n",
              "      border-right-color: var(--fill-color);\n",
              "    }\n",
              "    40% {\n",
              "      border-color: transparent;\n",
              "      border-right-color: var(--fill-color);\n",
              "      border-top-color: var(--fill-color);\n",
              "    }\n",
              "    60% {\n",
              "      border-color: transparent;\n",
              "      border-right-color: var(--fill-color);\n",
              "    }\n",
              "    80% {\n",
              "      border-color: transparent;\n",
              "      border-right-color: var(--fill-color);\n",
              "      border-bottom-color: var(--fill-color);\n",
              "    }\n",
              "    90% {\n",
              "      border-color: transparent;\n",
              "      border-bottom-color: var(--fill-color);\n",
              "    }\n",
              "  }\n",
              "</style>\n",
              "\n",
              "  <script>\n",
              "    async function quickchart(key) {\n",
              "      const quickchartButtonEl =\n",
              "        document.querySelector('#' + key + ' button');\n",
              "      quickchartButtonEl.disabled = true;  // To prevent multiple clicks.\n",
              "      quickchartButtonEl.classList.add('colab-df-spinner');\n",
              "      try {\n",
              "        const charts = await google.colab.kernel.invokeFunction(\n",
              "            'suggestCharts', [key], {});\n",
              "      } catch (error) {\n",
              "        console.error('Error during call to suggestCharts:', error);\n",
              "      }\n",
              "      quickchartButtonEl.classList.remove('colab-df-spinner');\n",
              "      quickchartButtonEl.classList.add('colab-df-quickchart-complete');\n",
              "    }\n",
              "    (() => {\n",
              "      let quickchartButtonEl =\n",
              "        document.querySelector('#df-ff4a3c02-1ef8-479c-b330-e84eb2a1bcfe button');\n",
              "      quickchartButtonEl.style.display =\n",
              "        google.colab.kernel.accessAllowed ? 'block' : 'none';\n",
              "    })();\n",
              "  </script>\n",
              "</div>\n",
              "    </div>\n",
              "  </div>\n"
            ]
          },
          "metadata": {},
          "execution_count": 28
        }
      ]
    },
    {
      "cell_type": "code",
      "source": [
        "plt.scatter(x=small_train['sepal length (cm)'], y=small_train['sepal width (cm)'], c=y_train)\n",
        "\n",
        "plt.show()"
      ],
      "metadata": {
        "colab": {
          "base_uri": "https://localhost:8080/",
          "height": 430
        },
        "id": "sZGa09qsPPGV",
        "outputId": "4072e759-c616-4990-a3ad-f440ee0e6c52"
      },
      "execution_count": null,
      "outputs": [
        {
          "output_type": "display_data",
          "data": {
            "text/plain": [
              "<Figure size 640x480 with 1 Axes>"
            ],
            "image/png": "[encoded data removed]"
          },
          "metadata": {}
        }
      ]
    },
    {
      "cell_type": "code",
      "source": [
        "lda_small = LinearDiscriminantAnalysis()\n",
        "lda_small.fit(small_train, y_train)"
      ],
      "metadata": {
        "colab": {
          "base_uri": "https://localhost:8080/",
          "height": 76
        },
        "id": "CF-uT1IGPRo9",
        "outputId": "9f5e0ddd-0a33-423e-efd4-0905109d3e9f"
      },
      "execution_count": null,
      "outputs": [
        {
          "output_type": "execute_result",
          "data": {
            "text/plain": [
              "LinearDiscriminantAnalysis()"
            ],
            "text/html": [
              "<style>#sk-container-id-2 {color: black;background-color: white;}#sk-container-id-2 pre{padding: 0;}#sk-container-id-2 div.sk-toggleable {background-color: white;}#sk-container-id-2 label.sk-toggleable__label {cursor: pointer;display: block;width: 100%;margin-bottom: 0;padding: 0.3em;box-sizing: border-box;text-align: center;}#sk-container-id-2 label.sk-toggleable__label-arrow:before {content: \"▸\";float: left;margin-right: 0.25em;color: #696969;}#sk-container-id-2 label.sk-toggleable__label-arrow:hover:before {color: black;}#sk-container-id-2 div.sk-estimator:hover label.sk-toggleable__label-arrow:before {color: black;}#sk-container-id-2 div.sk-toggleable__content {max-height: 0;max-width: 0;overflow: hidden;text-align: left;background-color: #f0f8ff;}#sk-container-id-2 div.sk-toggleable__content pre {margin: 0.2em;color: black;border-radius: 0.25em;background-color: #f0f8ff;}#sk-container-id-2 input.sk-toggleable__control:checked~div.sk-toggleable__content {max-height: 200px;max-width: 100%;overflow: auto;}#sk-container-id-2 input.sk-toggleable__control:checked~label.sk-toggleable__label-arrow:before {content: \"▾\";}#sk-container-id-2 div.sk-estimator input.sk-toggleable__control:checked~label.sk-toggleable__label {background-color: #d4ebff;}#sk-container-id-2 div.sk-label input.sk-toggleable__control:checked~label.sk-toggleable__label {background-color: #d4ebff;}#sk-container-id-2 input.sk-hidden--visually {border: 0;clip: rect(1px 1px 1px 1px);clip: rect(1px, 1px, 1px, 1px);height: 1px;margin: -1px;overflow: hidden;padding: 0;position: absolute;width: 1px;}#sk-container-id-2 div.sk-estimator {font-family: monospace;background-color: #f0f8ff;border: 1px dotted black;border-radius: 0.25em;box-sizing: border-box;margin-bottom: 0.5em;}#sk-container-id-2 div.sk-estimator:hover {background-color: #d4ebff;}#sk-container-id-2 div.sk-parallel-item::after {content: \"\";width: 100%;border-bottom: 1px solid gray;flex-grow: 1;}#sk-container-id-2 div.sk-label:hover label.sk-toggleable__label {background-color: #d4ebff;}#sk-container-id-2 div.sk-serial::before {content: \"\";position: absolute;border-left: 1px solid gray;box-sizing: border-box;top: 0;bottom: 0;left: 50%;z-index: 0;}#sk-container-id-2 div.sk-serial {display: flex;flex-direction: column;align-items: center;background-color: white;padding-right: 0.2em;padding-left: 0.2em;position: relative;}#sk-container-id-2 div.sk-item {position: relative;z-index: 1;}#sk-container-id-2 div.sk-parallel {display: flex;align-items: stretch;justify-content: center;background-color: white;position: relative;}#sk-container-id-2 div.sk-item::before, #sk-container-id-2 div.sk-parallel-item::before {content: \"\";position: absolute;border-left: 1px solid gray;box-sizing: border-box;top: 0;bottom: 0;left: 50%;z-index: -1;}#sk-container-id-2 div.sk-parallel-item {display: flex;flex-direction: column;z-index: 1;position: relative;background-color: white;}#sk-container-id-2 div.sk-parallel-item:first-child::after {align-self: flex-end;width: 50%;}#sk-container-id-2 div.sk-parallel-item:last-child::after {align-self: flex-start;width: 50%;}#sk-container-id-2 div.sk-parallel-item:only-child::after {width: 0;}#sk-container-id-2 div.sk-dashed-wrapped {border: 1px dashed gray;margin: 0 0.4em 0.5em 0.4em;box-sizing: border-box;padding-bottom: 0.4em;background-color: white;}#sk-container-id-2 div.sk-label label {font-family: monospace;font-weight: bold;display: inline-block;line-height: 1.2em;}#sk-container-id-2 div.sk-label-container {text-align: center;}#sk-container-id-2 div.sk-container {/* jupyter's `normalize.less` sets `[hidden] { display: none; }` but bootstrap.min.css set `[hidden] { display: none !important; }` so we also need the `!important` here to be able to override the default hidden behavior on the sphinx rendered scikit-learn.org. See: https://github.com/scikit-learn/scikit-learn/issues/21755 */display: inline-block !important;position: relative;}#sk-container-id-2 div.sk-text-repr-fallback {display: none;}</style><div id=\"sk-container-id-2\" class=\"sk-top-container\"><div class=\"sk-text-repr-fallback\"><pre>LinearDiscriminantAnalysis()</pre><b>In a Jupyter environment, please rerun this cell to show the HTML representation or trust the notebook. <br />On GitHub, the HTML representation is unable to render, please try loading this page with nbviewer.org.</b></div><div class=\"sk-container\" hidden><div class=\"sk-item\"><div class=\"sk-estimator sk-toggleable\"><input class=\"sk-toggleable__control sk-hidden--visually\" id=\"sk-estimator-id-2\" type=\"checkbox\" checked><label for=\"sk-estimator-id-2\" class=\"sk-toggleable__label sk-toggleable__label-arrow\">LinearDiscriminantAnalysis</label><div class=\"sk-toggleable__content\"><pre>LinearDiscriminantAnalysis()</pre></div></div></div></div></div>"
            ]
          },
          "metadata": {},
          "execution_count": 30
        }
      ]
    },
    {
      "cell_type": "code",
      "source": [
        "# посмотрим на наши центроиды\n",
        "lda_small.means_"
      ],
      "metadata": {
        "colab": {
          "base_uri": "https://localhost:8080/"
        },
        "id": "lrKPuL_BPXHk",
        "outputId": "3ca78daf-7710-4d12-a79e-78a2cbc5f9c7"
      },
      "execution_count": null,
      "outputs": [
        {
          "output_type": "execute_result",
          "data": {
            "text/plain": [
              "array([[4.99714286, 3.42857143],\n",
              "       [5.88717949, 2.75128205],\n",
              "       [6.53947368, 2.97894737]])"
            ]
          },
          "metadata": {},
          "execution_count": 31
        }
      ]
    },
    {
      "cell_type": "code",
      "source": [
        "cmap = colors.LinearSegmentedColormap(\n",
        "    'red_blue_classes',\n",
        "    {'red': [(0, 1, 1), (1, 0.7, 0.7)],\n",
        "     'green': [(0, 0.7, 0.7), (1, 0.7, 0.7)],\n",
        "     'blue': [(0, 0.7, 0.7), (1, 1, 1)]})\n",
        "plt.cm.register_cmap(cmap=cmap)\n",
        "plt.show()"
      ],
      "metadata": {
        "colab": {
          "base_uri": "https://localhost:8080/"
        },
        "id": "FfxBa8ppQa0L",
        "outputId": "46b8269b-a3b0-4885-f469-91aee95a7f2e"
      },
      "execution_count": null,
      "outputs": [
        {
          "output_type": "stream",
          "name": "stderr",
          "text": [
            "<ipython-input-34-5f7bd2bfae2b>:6: MatplotlibDeprecationWarning: The register_cmap function was deprecated in Matplotlib 3.7 and will be removed two minor releases later. Use ``matplotlib.colormaps.register(name)`` instead.\n",
            "  plt.cm.register_cmap(cmap=cmap)\n"
          ]
        }
      ]
    },
    {
      "cell_type": "code",
      "source": [
        "# сам scatter plot\n",
        "plt.scatter(small_train['sepal length (cm)'], small_train['sepal width (cm)'], c=y_train)\n",
        "# центроиды\n",
        "plt.scatter(lda_small.means_[:, 0], lda_small.means_[:, 1], c='r', s=150, marker='*')\n",
        "\n",
        "# делаем условную \"сетку\"\n",
        "nx, ny = 200, 100\n",
        "x_min, x_max = plt.xlim()\n",
        "y_min, y_max = plt.ylim()\n",
        "xx, yy = np.meshgrid(np.linspace(x_min, x_max, nx),\n",
        "                         np.linspace(y_min, y_max, ny))\n",
        "\n",
        "# предсказываем класс каждой точки нашей сетки\n",
        "Z = lda_small.predict_proba(np.c_[xx.ravel(), yy.ravel()])\n",
        "Z = Z[:, 1].reshape(xx.shape)\n",
        "\n",
        "# закрашиваем классы разными цветами\n",
        "plt.pcolormesh(xx, yy, Z, cmap='red_blue_classes',\n",
        "                   norm=colors.Normalize(0., 1.), zorder=-1, shading='auto')\n",
        "\n",
        "plt.contour(xx, yy, Z, [0.5], linewidths=2., colors='white')\n",
        "plt.show()"
      ],
      "metadata": {
        "colab": {
          "base_uri": "https://localhost:8080/",
          "height": 468
        },
        "id": "v8yBL-aZPZBw",
        "outputId": "ad2243c3-cf88-409c-d78c-844ed8c9c665"
      },
      "execution_count": null,
      "outputs": [
        {
          "output_type": "stream",
          "name": "stderr",
          "text": [
            "/usr/local/lib/python3.10/dist-packages/sklearn/base.py:439: UserWarning: X does not have valid feature names, but LinearDiscriminantAnalysis was fitted with feature names\n",
            "  warnings.warn(\n"
          ]
        },
        {
          "output_type": "display_data",
          "data": {
            "text/plain": [
              "<Figure size 640x480 with 1 Axes>"
            ],
            "image/png": "[encoded data removed]"
          },
          "metadata": {}
        }
      ]
    },
    {
      "cell_type": "code",
      "source": [
        "# визуализация разделения на тесте\n",
        "plt.scatter(small_test['sepal length (cm)'], small_test['sepal width (cm)'], c=lda_small.predict(small_test))\n",
        "xx, yy = np.meshgrid(np.linspace(x_min, x_max, nx),\n",
        "                         np.linspace(y_min, y_max, ny))\n",
        "\n",
        "Z = lda_small.predict_proba(np.c_[xx.ravel(), yy.ravel()])\n",
        "Z = Z[:, 1].reshape(xx.shape)\n",
        "\n",
        "plt.pcolormesh(xx, yy, Z, cmap='red_blue_classes',\n",
        "                   norm=colors.Normalize(0., 1.), zorder=-1, shading='auto')\n",
        "\n",
        "plt.contour(xx, yy, Z, [0.5], linewidths=2., colors='white')\n",
        "plt.show()"
      ],
      "metadata": {
        "colab": {
          "base_uri": "https://localhost:8080/",
          "height": 470
        },
        "id": "rFNtH-1aPbSU",
        "outputId": "4269c8c4-8fec-484f-9645-2d69ff6f8456"
      },
      "execution_count": null,
      "outputs": [
        {
          "output_type": "stream",
          "name": "stderr",
          "text": [
            "/usr/local/lib/python3.10/dist-packages/sklearn/base.py:439: UserWarning: X does not have valid feature names, but LinearDiscriminantAnalysis was fitted with feature names\n",
            "  warnings.warn(\n"
          ]
        },
        {
          "output_type": "display_data",
          "data": {
            "text/plain": [
              "<Figure size 640x480 with 1 Axes>"
            ],
            "image/png": "[encoded data removed]"
          },
          "metadata": {}
        }
      ]
    },
    {
      "cell_type": "code",
      "source": [
        "# второй признак во много раз важнее первого для кластеризации (это видно по визуализации)\n",
        "lda_small.coef_"
      ],
      "metadata": {
        "colab": {
          "base_uri": "https://localhost:8080/"
        },
        "id": "ymeRwX5FPdHW",
        "outputId": "476efdf9-82aa-441b-85f8-f6e8338d01d4"
      },
      "execution_count": null,
      "outputs": [
        {
          "output_type": "execute_result",
          "data": {
            "text/plain": [
              "array([[-5.83421967,  8.36880937],\n",
              "       [ 1.5215595 , -3.81430503],\n",
              "       [ 3.81202284, -3.79343242]])"
            ]
          },
          "metadata": {},
          "execution_count": 38
        }
      ]
    },
    {
      "cell_type": "markdown",
      "source": [
        "# Для задачи классификации после построения модели посчитайте метрику accuracy, она должна быть больше 0.7 (ВЫПОЛНЕНО)\n"
      ],
      "metadata": {
        "id": "BF8lzwyHQ5vM"
      }
    },
    {
      "cell_type": "code",
      "source": [
        "# какая будет точность?\n",
        "accuracy_score(y_test, lda_small.predict(small_test))"
      ],
      "metadata": {
        "colab": {
          "base_uri": "https://localhost:8080/"
        },
        "id": "6AjpvLC6Pc_I",
        "outputId": "cf061ffd-29f2-4660-a18e-bd36f3abc5b5"
      },
      "execution_count": null,
      "outputs": [
        {
          "output_type": "execute_result",
          "data": {
            "text/plain": [
              "0.868421052631579"
            ]
          },
          "metadata": {},
          "execution_count": 39
        }
      ]
    },
    {
      "cell_type": "code",
      "source": [
        "data[['sepal length (cm)', 'sepal width (cm)']].corr()"
      ],
      "metadata": {
        "colab": {
          "base_uri": "https://localhost:8080/",
          "height": 112
        },
        "id": "Db0LnZpDRATJ",
        "outputId": "b6b3c7d6-b050-4617-e6c5-309d56203e11"
      },
      "execution_count": null,
      "outputs": [
        {
          "output_type": "execute_result",
          "data": {
            "text/plain": [
              "                   sepal length (cm)  sepal width (cm)\n",
              "sepal length (cm)            1.00000          -0.11757\n",
              "sepal width (cm)            -0.11757           1.00000"
            ],
            "text/html": [
              "\n",
              "  <div id=\"df-eeb881c9-7e3c-4c7e-9eba-4a1b2a44a1f2\" class=\"colab-df-container\">\n",
              "    <div>\n",
              "<style scoped>\n",
              "    .dataframe tbody tr th:only-of-type {\n",
              "        vertical-align: middle;\n",
              "    }\n",
              "\n",
              "    .dataframe tbody tr th {\n",
              "        vertical-align: top;\n",
              "    }\n",
              "\n",
              "    .dataframe thead th {\n",
              "        text-align: right;\n",
              "    }\n",
              "</style>\n",
              "<table border=\"1\" class=\"dataframe\">\n",
              "  <thead>\n",
              "    <tr style=\"text-align: right;\">\n",
              "      <th></th>\n",
              "      <th>sepal length (cm)</th>\n",
              "      <th>sepal width (cm)</th>\n",
              "    </tr>\n",
              "  </thead>\n",
              "  <tbody>\n",
              "    <tr>\n",
              "      <th>sepal length (cm)</th>\n",
              "      <td>1.00000</td>\n",
              "      <td>-0.11757</td>\n",
              "    </tr>\n",
              "    <tr>\n",
              "      <th>sepal width (cm)</th>\n",
              "      <td>-0.11757</td>\n",
              "      <td>1.00000</td>\n",
              "    </tr>\n",
              "  </tbody>\n",
              "</table>\n",
              "</div>\n",
              "    <div class=\"colab-df-buttons\">\n",
              "\n",
              "  <div class=\"colab-df-container\">\n",
              "    <button class=\"colab-df-convert\" onclick=\"convertToInteractive('df-eeb881c9-7e3c-4c7e-9eba-4a1b2a44a1f2')\"\n",
              "            title=\"Convert this dataframe to an interactive table.\"\n",
              "            style=\"display:none;\">\n",
              "\n",
              "  <svg xmlns=\"http://www.w3.org/2000/svg\" height=\"24px\" viewBox=\"0 -960 960 960\">\n",
              "    <path d=\"M120-120v-720h720v720H120Zm60-500h600v-160H180v160Zm220 220h160v-160H400v160Zm0 220h160v-160H400v160ZM180-400h160v-160H180v160Zm440 0h160v-160H620v160ZM180-180h160v-160H180v160Zm440 0h160v-160H620v160Z\"/>\n",
              "  </svg>\n",
              "    </button>\n",
              "\n",
              "  <style>\n",
              "    .colab-df-container {\n",
              "      display:flex;\n",
              "      gap: 12px;\n",
              "    }\n",
              "\n",
              "    .colab-df-convert {\n",
              "      background-color: #E8F0FE;\n",
              "      border: none;\n",
              "      border-radius: 50%;\n",
              "      cursor: pointer;\n",
              "      display: none;\n",
              "      fill: #1967D2;\n",
              "      height: 32px;\n",
              "      padding: 0 0 0 0;\n",
              "      width: 32px;\n",
              "    }\n",
              "\n",
              "    .colab-df-convert:hover {\n",
              "      background-color: #E2EBFA;\n",
              "      box-shadow: 0px 1px 2px rgba(60, 64, 67, 0.3), 0px 1px 3px 1px rgba(60, 64, 67, 0.15);\n",
              "      fill: #174EA6;\n",
              "    }\n",
              "\n",
              "    .colab-df-buttons div {\n",
              "      margin-bottom: 4px;\n",
              "    }\n",
              "\n",
              "    [theme=dark] .colab-df-convert {\n",
              "      background-color: #3B4455;\n",
              "      fill: #D2E3FC;\n",
              "    }\n",
              "\n",
              "    [theme=dark] .colab-df-convert:hover {\n",
              "      background-color: #434B5C;\n",
              "      box-shadow: 0px 1px 3px 1px rgba(0, 0, 0, 0.15);\n",
              "      filter: drop-shadow(0px 1px 2px rgba(0, 0, 0, 0.3));\n",
              "      fill: #FFFFFF;\n",
              "    }\n",
              "  </style>\n",
              "\n",
              "    <script>\n",
              "      const buttonEl =\n",
              "        document.querySelector('#df-eeb881c9-7e3c-4c7e-9eba-4a1b2a44a1f2 button.colab-df-convert');\n",
              "      buttonEl.style.display =\n",
              "        google.colab.kernel.accessAllowed ? 'block' : 'none';\n",
              "\n",
              "      async function convertToInteractive(key) {\n",
              "        const element = document.querySelector('#df-eeb881c9-7e3c-4c7e-9eba-4a1b2a44a1f2');\n",
              "        const dataTable =\n",
              "          await google.colab.kernel.invokeFunction('convertToInteractive',\n",
              "                                                    [key], {});\n",
              "        if (!dataTable) return;\n",
              "\n",
              "        const docLinkHtml = 'Like what you see? Visit the ' +\n",
              "          '<a target=\"_blank\" href=https://colab.research.google.com/notebooks/data_table.ipynb>data table notebook</a>'\n",
              "          + ' to learn more about interactive tables.';\n",
              "        element.innerHTML = '';\n",
              "        dataTable['output_type'] = 'display_data';\n",
              "        await google.colab.output.renderOutput(dataTable, element);\n",
              "        const docLink = document.createElement('div');\n",
              "        docLink.innerHTML = docLinkHtml;\n",
              "        element.appendChild(docLink);\n",
              "      }\n",
              "    </script>\n",
              "  </div>\n",
              "\n",
              "\n",
              "<div id=\"df-670c0717-b185-4d2e-a973-64d54cae3886\">\n",
              "  <button class=\"colab-df-quickchart\" onclick=\"quickchart('df-670c0717-b185-4d2e-a973-64d54cae3886')\"\n",
              "            title=\"Suggest charts\"\n",
              "            style=\"display:none;\">\n",
              "\n",
              "<svg xmlns=\"http://www.w3.org/2000/svg\" height=\"24px\"viewBox=\"0 0 24 24\"\n",
              "     width=\"24px\">\n",
              "    <g>\n",
              "        <path d=\"M19 3H5c-1.1 0-2 .9-2 2v14c0 1.1.9 2 2 2h14c1.1 0 2-.9 2-2V5c0-1.1-.9-2-2-2zM9 17H7v-7h2v7zm4 0h-2V7h2v10zm4 0h-2v-4h2v4z\"/>\n",
              "    </g>\n",
              "</svg>\n",
              "  </button>\n",
              "\n",
              "<style>\n",
              "  .colab-df-quickchart {\n",
              "      --bg-color: #E8F0FE;\n",
              "      --fill-color: #1967D2;\n",
              "      --hover-bg-color: #E2EBFA;\n",
              "      --hover-fill-color: #174EA6;\n",
              "      --disabled-fill-color: #AAA;\n",
              "      --disabled-bg-color: #DDD;\n",
              "  }\n",
              "\n",
              "  [theme=dark] .colab-df-quickchart {\n",
              "      --bg-color: #3B4455;\n",
              "      --fill-color: #D2E3FC;\n",
              "      --hover-bg-color: #434B5C;\n",
              "      --hover-fill-color: #FFFFFF;\n",
              "      --disabled-bg-color: #3B4455;\n",
              "      --disabled-fill-color: #666;\n",
              "  }\n",
              "\n",
              "  .colab-df-quickchart {\n",
              "    background-color: var(--bg-color);\n",
              "    border: none;\n",
              "    border-radius: 50%;\n",
              "    cursor: pointer;\n",
              "    display: none;\n",
              "    fill: var(--fill-color);\n",
              "    height: 32px;\n",
              "    padding: 0;\n",
              "    width: 32px;\n",
              "  }\n",
              "\n",
              "  .colab-df-quickchart:hover {\n",
              "    background-color: var(--hover-bg-color);\n",
              "    box-shadow: 0 1px 2px rgba(60, 64, 67, 0.3), 0 1px 3px 1px rgba(60, 64, 67, 0.15);\n",
              "    fill: var(--button-hover-fill-color);\n",
              "  }\n",
              "\n",
              "  .colab-df-quickchart-complete:disabled,\n",
              "  .colab-df-quickchart-complete:disabled:hover {\n",
              "    background-color: var(--disabled-bg-color);\n",
              "    fill: var(--disabled-fill-color);\n",
              "    box-shadow: none;\n",
              "  }\n",
              "\n",
              "  .colab-df-spinner {\n",
              "    border: 2px solid var(--fill-color);\n",
              "    border-color: transparent;\n",
              "    border-bottom-color: var(--fill-color);\n",
              "    animation:\n",
              "      spin 1s steps(1) infinite;\n",
              "  }\n",
              "\n",
              "  @keyframes spin {\n",
              "    0% {\n",
              "      border-color: transparent;\n",
              "      border-bottom-color: var(--fill-color);\n",
              "      border-left-color: var(--fill-color);\n",
              "    }\n",
              "    20% {\n",
              "      border-color: transparent;\n",
              "      border-left-color: var(--fill-color);\n",
              "      border-top-color: var(--fill-color);\n",
              "    }\n",
              "    30% {\n",
              "      border-color: transparent;\n",
              "      border-left-color: var(--fill-color);\n",
              "      border-top-color: var(--fill-color);\n",
              "      border-right-color: var(--fill-color);\n",
              "    }\n",
              "    40% {\n",
              "      border-color: transparent;\n",
              "      border-right-color: var(--fill-color);\n",
              "      border-top-color: var(--fill-color);\n",
              "    }\n",
              "    60% {\n",
              "      border-color: transparent;\n",
              "      border-right-color: var(--fill-color);\n",
              "    }\n",
              "    80% {\n",
              "      border-color: transparent;\n",
              "      border-right-color: var(--fill-color);\n",
              "      border-bottom-color: var(--fill-color);\n",
              "    }\n",
              "    90% {\n",
              "      border-color: transparent;\n",
              "      border-bottom-color: var(--fill-color);\n",
              "    }\n",
              "  }\n",
              "</style>\n",
              "\n",
              "  <script>\n",
              "    async function quickchart(key) {\n",
              "      const quickchartButtonEl =\n",
              "        document.querySelector('#' + key + ' button');\n",
              "      quickchartButtonEl.disabled = true;  // To prevent multiple clicks.\n",
              "      quickchartButtonEl.classList.add('colab-df-spinner');\n",
              "      try {\n",
              "        const charts = await google.colab.kernel.invokeFunction(\n",
              "            'suggestCharts', [key], {});\n",
              "      } catch (error) {\n",
              "        console.error('Error during call to suggestCharts:', error);\n",
              "      }\n",
              "      quickchartButtonEl.classList.remove('colab-df-spinner');\n",
              "      quickchartButtonEl.classList.add('colab-df-quickchart-complete');\n",
              "    }\n",
              "    (() => {\n",
              "      let quickchartButtonEl =\n",
              "        document.querySelector('#df-670c0717-b185-4d2e-a973-64d54cae3886 button');\n",
              "      quickchartButtonEl.style.display =\n",
              "        google.colab.kernel.accessAllowed ? 'block' : 'none';\n",
              "    })();\n",
              "  </script>\n",
              "</div>\n",
              "    </div>\n",
              "  </div>\n"
            ]
          },
          "metadata": {},
          "execution_count": 40
        }
      ]
    },
    {
      "cell_type": "markdown",
      "source": [],
      "metadata": {
        "id": "qVi2bZ3DPPAa"
      }
    },
    {
      "cell_type": "code",
      "source": [],
      "metadata": {
        "id": "XChhx8o-RLGk"
      },
      "execution_count": null,
      "outputs": []
    },
    {
      "cell_type": "markdown",
      "source": [
        "# Отбросьте целевую переменную и оставьте только два признака - sepal_length и sepal_width"
      ],
      "metadata": {
        "id": "lUpqZ1rjRLc2"
      }
    },
    {
      "cell_type": "code",
      "source": [
        "# заменим модель на логистическую регрессиию\n",
        "# кому интересно, отличия логистической регрессии от LDA:\n",
        "# https://www.introspective-mode.org/logistic-regression-or-discriminant-function-analysis/\n",
        "# Основные моменты:\n",
        "# LR может работать с категориальными признаками\n",
        "# зависимая переменная в LR подчиняется логистической функции (изменяется от 0 до 1) и непрерывна\n",
        "from sklearn.linear_model import LogisticRegression"
      ],
      "metadata": {
        "id": "qdSR0SNsRPiD"
      },
      "execution_count": null,
      "outputs": []
    },
    {
      "cell_type": "code",
      "source": [
        "lr = LogisticRegression()"
      ],
      "metadata": {
        "id": "r6HSCxagSXrg"
      },
      "execution_count": null,
      "outputs": []
    },
    {
      "cell_type": "code",
      "source": [
        "lr.fit(small_train, y_train)"
      ],
      "metadata": {
        "colab": {
          "base_uri": "https://localhost:8080/",
          "height": 76
        },
        "id": "9rScDHw1SZvm",
        "outputId": "f209b55c-3aab-4d04-98cc-5aadd3f4296d"
      },
      "execution_count": null,
      "outputs": [
        {
          "output_type": "execute_result",
          "data": {
            "text/plain": [
              "LogisticRegression()"
            ],
            "text/html": [
              "<style>#sk-container-id-3 {color: black;background-color: white;}#sk-container-id-3 pre{padding: 0;}#sk-container-id-3 div.sk-toggleable {background-color: white;}#sk-container-id-3 label.sk-toggleable__label {cursor: pointer;display: block;width: 100%;margin-bottom: 0;padding: 0.3em;box-sizing: border-box;text-align: center;}#sk-container-id-3 label.sk-toggleable__label-arrow:before {content: \"▸\";float: left;margin-right: 0.25em;color: #696969;}#sk-container-id-3 label.sk-toggleable__label-arrow:hover:before {color: black;}#sk-container-id-3 div.sk-estimator:hover label.sk-toggleable__label-arrow:before {color: black;}#sk-container-id-3 div.sk-toggleable__content {max-height: 0;max-width: 0;overflow: hidden;text-align: left;background-color: #f0f8ff;}#sk-container-id-3 div.sk-toggleable__content pre {margin: 0.2em;color: black;border-radius: 0.25em;background-color: #f0f8ff;}#sk-container-id-3 input.sk-toggleable__control:checked~div.sk-toggleable__content {max-height: 200px;max-width: 100%;overflow: auto;}#sk-container-id-3 input.sk-toggleable__control:checked~label.sk-toggleable__label-arrow:before {content: \"▾\";}#sk-container-id-3 div.sk-estimator input.sk-toggleable__control:checked~label.sk-toggleable__label {background-color: #d4ebff;}#sk-container-id-3 div.sk-label input.sk-toggleable__control:checked~label.sk-toggleable__label {background-color: #d4ebff;}#sk-container-id-3 input.sk-hidden--visually {border: 0;clip: rect(1px 1px 1px 1px);clip: rect(1px, 1px, 1px, 1px);height: 1px;margin: -1px;overflow: hidden;padding: 0;position: absolute;width: 1px;}#sk-container-id-3 div.sk-estimator {font-family: monospace;background-color: #f0f8ff;border: 1px dotted black;border-radius: 0.25em;box-sizing: border-box;margin-bottom: 0.5em;}#sk-container-id-3 div.sk-estimator:hover {background-color: #d4ebff;}#sk-container-id-3 div.sk-parallel-item::after {content: \"\";width: 100%;border-bottom: 1px solid gray;flex-grow: 1;}#sk-container-id-3 div.sk-label:hover label.sk-toggleable__label {background-color: #d4ebff;}#sk-container-id-3 div.sk-serial::before {content: \"\";position: absolute;border-left: 1px solid gray;box-sizing: border-box;top: 0;bottom: 0;left: 50%;z-index: 0;}#sk-container-id-3 div.sk-serial {display: flex;flex-direction: column;align-items: center;background-color: white;padding-right: 0.2em;padding-left: 0.2em;position: relative;}#sk-container-id-3 div.sk-item {position: relative;z-index: 1;}#sk-container-id-3 div.sk-parallel {display: flex;align-items: stretch;justify-content: center;background-color: white;position: relative;}#sk-container-id-3 div.sk-item::before, #sk-container-id-3 div.sk-parallel-item::before {content: \"\";position: absolute;border-left: 1px solid gray;box-sizing: border-box;top: 0;bottom: 0;left: 50%;z-index: -1;}#sk-container-id-3 div.sk-parallel-item {display: flex;flex-direction: column;z-index: 1;position: relative;background-color: white;}#sk-container-id-3 div.sk-parallel-item:first-child::after {align-self: flex-end;width: 50%;}#sk-container-id-3 div.sk-parallel-item:last-child::after {align-self: flex-start;width: 50%;}#sk-container-id-3 div.sk-parallel-item:only-child::after {width: 0;}#sk-container-id-3 div.sk-dashed-wrapped {border: 1px dashed gray;margin: 0 0.4em 0.5em 0.4em;box-sizing: border-box;padding-bottom: 0.4em;background-color: white;}#sk-container-id-3 div.sk-label label {font-family: monospace;font-weight: bold;display: inline-block;line-height: 1.2em;}#sk-container-id-3 div.sk-label-container {text-align: center;}#sk-container-id-3 div.sk-container {/* jupyter's `normalize.less` sets `[hidden] { display: none; }` but bootstrap.min.css set `[hidden] { display: none !important; }` so we also need the `!important` here to be able to override the default hidden behavior on the sphinx rendered scikit-learn.org. See: https://github.com/scikit-learn/scikit-learn/issues/21755 */display: inline-block !important;position: relative;}#sk-container-id-3 div.sk-text-repr-fallback {display: none;}</style><div id=\"sk-container-id-3\" class=\"sk-top-container\"><div class=\"sk-text-repr-fallback\"><pre>LogisticRegression()</pre><b>In a Jupyter environment, please rerun this cell to show the HTML representation or trust the notebook. <br />On GitHub, the HTML representation is unable to render, please try loading this page with nbviewer.org.</b></div><div class=\"sk-container\" hidden><div class=\"sk-item\"><div class=\"sk-estimator sk-toggleable\"><input class=\"sk-toggleable__control sk-hidden--visually\" id=\"sk-estimator-id-3\" type=\"checkbox\" checked><label for=\"sk-estimator-id-3\" class=\"sk-toggleable__label sk-toggleable__label-arrow\">LogisticRegression</label><div class=\"sk-toggleable__content\"><pre>LogisticRegression()</pre></div></div></div></div></div>"
            ]
          },
          "metadata": {},
          "execution_count": 43
        }
      ]
    },
    {
      "cell_type": "code",
      "source": [
        "lr.predict(small_test)"
      ],
      "metadata": {
        "colab": {
          "base_uri": "https://localhost:8080/"
        },
        "id": "YY-idnozSbm6",
        "outputId": "4c2a1de9-1ed3-4afc-916b-98a8d8b43e91"
      },
      "execution_count": null,
      "outputs": [
        {
          "output_type": "execute_result",
          "data": {
            "text/plain": [
              "array([1, 0, 2, 1, 2, 0, 1, 2, 1, 1, 2, 0, 0, 0, 0, 2, 2, 1, 1, 2, 0, 1,\n",
              "       0, 2, 2, 2, 2, 2, 0, 0, 0, 0, 2, 0, 0, 1, 2, 0])"
            ]
          },
          "metadata": {},
          "execution_count": 44
        }
      ]
    },
    {
      "cell_type": "code",
      "source": [
        "# вероятность принадлежности к тому или иному классу\n",
        "lr.predict_proba(small_test)"
      ],
      "metadata": {
        "colab": {
          "base_uri": "https://localhost:8080/"
        },
        "id": "QBSiHBTcSdmB",
        "outputId": "3e9d480c-c984-499c-b9bb-2ec5eedfe69b"
      },
      "execution_count": null,
      "outputs": [
        {
          "output_type": "execute_result",
          "data": {
            "text/plain": [
              "array([[2.38318259e-02, 5.39569918e-01, 4.36598256e-01],\n",
              "       [7.11056563e-01, 1.28646086e-01, 1.60297351e-01],\n",
              "       [2.58701455e-05, 1.58881246e-01, 8.41092884e-01],\n",
              "       [4.60276708e-02, 5.35393890e-01, 4.18578439e-01],\n",
              "       [1.73706586e-03, 3.32783951e-01, 6.65478983e-01],\n",
              "       [6.73659907e-01, 2.06738542e-01, 1.19601551e-01],\n",
              "       [1.65740832e-01, 5.68996052e-01, 2.65263116e-01],\n",
              "       [2.81452331e-03, 2.47752254e-01, 7.49433223e-01],\n",
              "       [2.44866688e-03, 6.55794505e-01, 3.41756828e-01],\n",
              "       [4.87774735e-02, 6.34411490e-01, 3.16811037e-01],\n",
              "       [1.81738012e-02, 3.29110344e-01, 6.52715855e-01],\n",
              "       [8.02288177e-01, 1.67231642e-01, 3.04801811e-02],\n",
              "       [6.66531987e-01, 1.93443028e-01, 1.40024985e-01],\n",
              "       [8.05101962e-01, 1.58704881e-01, 3.61931567e-02],\n",
              "       [9.56340388e-01, 2.77423289e-02, 1.59172831e-02],\n",
              "       [5.15333830e-02, 3.53390399e-01, 5.95076218e-01],\n",
              "       [1.00587209e-02, 3.74906683e-01, 6.15034596e-01],\n",
              "       [4.95500397e-02, 7.20598031e-01, 2.29851929e-01],\n",
              "       [9.16902526e-02, 6.12687342e-01, 2.95622405e-01],\n",
              "       [8.00224367e-03, 4.52463122e-01, 5.39534634e-01],\n",
              "       [9.18189062e-01, 6.85396445e-02, 1.32712932e-02],\n",
              "       [4.39344656e-02, 4.83293660e-01, 4.72771875e-01],\n",
              "       [8.91408689e-01, 8.07389205e-02, 2.78523903e-02],\n",
              "       [8.00224367e-03, 4.52463122e-01, 5.39534634e-01],\n",
              "       [3.00060118e-04, 4.46232711e-02, 9.55076669e-01],\n",
              "       [4.64342964e-03, 3.18571286e-01, 6.76785285e-01],\n",
              "       [1.03183828e-03, 4.30220449e-01, 5.68747713e-01],\n",
              "       [5.60527284e-03, 2.53497407e-01, 7.40897320e-01],\n",
              "       [8.02288177e-01, 1.67231642e-01, 3.04801811e-02],\n",
              "       [8.51491070e-01, 1.23715989e-01, 2.47929412e-02],\n",
              "       [9.84040739e-01, 1.27808524e-02, 3.17840905e-03],\n",
              "       [9.37701565e-01, 1.94582188e-02, 4.28402157e-02],\n",
              "       [6.22948924e-03, 2.97905052e-01, 6.95865459e-01],\n",
              "       [9.41341355e-01, 4.63197149e-02, 1.23389299e-02],\n",
              "       [9.67288685e-01, 2.89124461e-02, 3.79886936e-03],\n",
              "       [4.52361141e-03, 5.56660022e-01, 4.38816366e-01],\n",
              "       [2.65888391e-02, 3.54896297e-01, 6.18514864e-01],\n",
              "       [8.52301041e-01, 9.90476325e-02, 4.86513260e-02]])"
            ]
          },
          "metadata": {},
          "execution_count": 45
        }
      ]
    },
    {
      "cell_type": "code",
      "source": [
        "accuracy_score(y_test, lr.predict(small_test))"
      ],
      "metadata": {
        "colab": {
          "base_uri": "https://localhost:8080/"
        },
        "id": "Fm_ohWPuSgEI",
        "outputId": "22fb347c-7986-450c-b0bb-1f0510f33b25"
      },
      "execution_count": null,
      "outputs": [
        {
          "output_type": "execute_result",
          "data": {
            "text/plain": [
              "0.8421052631578947"
            ]
          },
          "metadata": {},
          "execution_count": 46
        }
      ]
    },
    {
      "cell_type": "code",
      "source": [
        "lr.coef_"
      ],
      "metadata": {
        "colab": {
          "base_uri": "https://localhost:8080/"
        },
        "id": "n5vHlQdcShpl",
        "outputId": "1873502f-727e-405f-f95a-b42516abcb94"
      },
      "execution_count": null,
      "outputs": [
        {
          "output_type": "execute_result",
          "data": {
            "text/plain": [
              "array([[-2.46469701,  2.08983797],\n",
              "       [ 0.58608244, -1.51928758],\n",
              "       [ 1.87861458, -0.57055038]])"
            ]
          },
          "metadata": {},
          "execution_count": 47
        }
      ]
    },
    {
      "cell_type": "code",
      "source": [
        "plt.scatter(small_train['sepal length (cm)'], small_train['sepal width (cm)'], c=y_train)\n",
        "\n",
        "nx, ny = 200, 100\n",
        "x_min, x_max = plt.xlim()\n",
        "y_min, y_max = plt.ylim()\n",
        "xx, yy = np.meshgrid(np.linspace(x_min, x_max, nx),\n",
        "                         np.linspace(y_min, y_max, ny))\n",
        "Z = lr.predict_proba(np.c_[xx.ravel(), yy.ravel()])\n",
        "Z = Z[:, 1].reshape(xx.shape)\n",
        "plt.pcolormesh(xx, yy, Z, cmap='red_blue_classes',\n",
        "                   norm=colors.Normalize(0., 1.), zorder=-1, shading='auto')\n",
        "plt.contour(xx, yy, Z, [0.5], linewidths=2., colors='white')\n",
        "\n",
        "plt.show()"
      ],
      "metadata": {
        "colab": {
          "base_uri": "https://localhost:8080/",
          "height": 468
        },
        "id": "4d6orxfaSjym",
        "outputId": "1d3c8397-ce37-411a-ba23-279616144079"
      },
      "execution_count": null,
      "outputs": [
        {
          "output_type": "stream",
          "name": "stderr",
          "text": [
            "/usr/local/lib/python3.10/dist-packages/sklearn/base.py:439: UserWarning: X does not have valid feature names, but LogisticRegression was fitted with feature names\n",
            "  warnings.warn(\n"
          ]
        },
        {
          "output_type": "display_data",
          "data": {
            "text/plain": [
              "<Figure size 640x480 with 1 Axes>"
            ],
            "image/png": "[encoded data removed]"
          },
          "metadata": {}
        }
      ]
    },
    {
      "cell_type": "code",
      "source": [
        "plt.scatter(small_test['sepal length (cm)'], small_test['sepal width (cm)'], c=lr.predict(small_test))\n",
        "\n",
        "nx, ny = 200, 100\n",
        "xx, yy = np.meshgrid(np.linspace(x_min, x_max, nx),\n",
        "                         np.linspace(y_min, y_max, ny))\n",
        "\n",
        "Z = lr.predict_proba(np.c_[xx.ravel(), yy.ravel()])\n",
        "Z = Z[:, 1].reshape(xx.shape)\n",
        "\n",
        "plt.pcolormesh(xx, yy, Z, cmap='red_blue_classes',\n",
        "                   norm=colors.Normalize(0., 1.), zorder=-1, shading='auto')\n",
        "\n",
        "plt.contour(xx, yy, Z, [0.5], linewidths=2., colors='white')\n",
        "plt.show()"
      ],
      "metadata": {
        "colab": {
          "base_uri": "https://localhost:8080/",
          "height": 470
        },
        "id": "2RCKpXXVSvDA",
        "outputId": "c7245136-1776-40e0-a5d3-d5b4f16cc0c3"
      },
      "execution_count": null,
      "outputs": [
        {
          "output_type": "stream",
          "name": "stderr",
          "text": [
            "/usr/local/lib/python3.10/dist-packages/sklearn/base.py:439: UserWarning: X does not have valid feature names, but LogisticRegression was fitted with feature names\n",
            "  warnings.warn(\n"
          ]
        },
        {
          "output_type": "display_data",
          "data": {
            "text/plain": [
              "<Figure size 640x480 with 1 Axes>"
            ],
            "image/png": "[encoded data removed]"
          },
          "metadata": {}
        }
      ]
    },
    {
      "cell_type": "code",
      "source": [
        "# генерируем искусвтенные данные для примера\n",
        "from sklearn.datasets import make_blobs"
      ],
      "metadata": {
        "id": "6pP7uHdOS2d2"
      },
      "execution_count": null,
      "outputs": []
    },
    {
      "cell_type": "code",
      "source": [
        "# 200 точек с 2 центрами, СКО - 2.5\n",
        "X, y = make_blobs(n_samples=200, centers=2, cluster_std=2.5)"
      ],
      "metadata": {
        "id": "8Wbm5FT5S4VN"
      },
      "execution_count": null,
      "outputs": []
    },
    {
      "cell_type": "code",
      "source": [
        "X"
      ],
      "metadata": {
        "colab": {
          "base_uri": "https://localhost:8080/"
        },
        "id": "7ozLC_w5S6Zj",
        "outputId": "9499a3d7-55bf-4f00-b8cb-f63429820a1b"
      },
      "execution_count": null,
      "outputs": [
        {
          "output_type": "execute_result",
          "data": {
            "text/plain": [
              "array([[ -8.36392241,  -0.55531818],\n",
              "       [  3.03881863,  -9.93391063],\n",
              "       [  0.0593924 ,  -9.82477048],\n",
              "       [  1.22392662,  -9.55775337],\n",
              "       [  4.25945114, -12.77037723],\n",
              "       [  2.74947776,  -5.31765357],\n",
              "       [ -4.3007973 ,   1.66747822],\n",
              "       [  0.19685564,  -8.21285844],\n",
              "       [  2.85115246, -13.23735981],\n",
              "       [ -4.97146307,   6.96823882],\n",
              "       [ -0.38529179,   4.01454648],\n",
              "       [ -0.48031732,  -8.13875249],\n",
              "       [ -2.53937947,   6.67710338],\n",
              "       [ -3.04723157,   3.53431937],\n",
              "       [  0.66663056,  -9.08795209],\n",
              "       [ -4.42081553,   5.92826747],\n",
              "       [  1.84208797,  -6.08264975],\n",
              "       [  0.7271317 ,  -6.27547537],\n",
              "       [ -5.05615926,   9.00022971],\n",
              "       [  2.03761251,  -6.30099233],\n",
              "       [ -6.20518279,  10.96612937],\n",
              "       [  4.77304512,  -5.27618608],\n",
              "       [  5.31089492, -13.11959246],\n",
              "       [  0.17545262,  -6.72979747],\n",
              "       [  5.9121724 ,  -7.19079778],\n",
              "       [ -1.68783867,   5.40426897],\n",
              "       [ -0.64194994,  -8.21383373],\n",
              "       [  3.93567161,  -5.86883834],\n",
              "       [ -6.0832593 ,   1.33346136],\n",
              "       [  2.55728008, -13.01125383],\n",
              "       [  3.7162639 , -10.35326795],\n",
              "       [ -2.96943659,   3.31525041],\n",
              "       [ -1.81748828,   5.4787851 ],\n",
              "       [  1.23717651, -12.00681524],\n",
              "       [ -4.24398873,   2.67309674],\n",
              "       [ -1.96724235,  -9.76050813],\n",
              "       [  0.90302949, -12.91357178],\n",
              "       [  0.70458826,   4.44696648],\n",
              "       [  2.95063547,  -6.5857073 ],\n",
              "       [ -1.0394947 ,   6.63539871],\n",
              "       [ -2.59804128,   4.79158831],\n",
              "       [  7.09692795,  -7.03349689],\n",
              "       [  0.42124963,  -8.63215227],\n",
              "       [ -1.21481023, -15.1905577 ],\n",
              "       [  4.89654621, -10.27594657],\n",
              "       [ -0.57210199,   1.30373382],\n",
              "       [  5.25457869,  -6.35106006],\n",
              "       [ -1.22341993,   2.85850639],\n",
              "       [ -2.9916039 ,   2.98625413],\n",
              "       [  3.7479712 ,  -6.0984074 ],\n",
              "       [  6.04478275,  -9.51803293],\n",
              "       [ -0.36731858,   4.23394375],\n",
              "       [  2.21924058, -13.14832663],\n",
              "       [ -5.32473637,   8.33036835],\n",
              "       [ -0.58227984,   5.94604963],\n",
              "       [  0.88323178,   1.24743818],\n",
              "       [ -3.53073468,   3.78419548],\n",
              "       [  0.2120345 , -11.60146656],\n",
              "       [  3.76383374, -10.44646338],\n",
              "       [  2.50947267,  -8.82698279],\n",
              "       [ -7.18988149,   3.62985351],\n",
              "       [ -0.42112087,  -9.26649043],\n",
              "       [ -3.40884112,   6.80227455],\n",
              "       [  0.49707372,   8.29600046],\n",
              "       [  0.14037178,  -6.02153791],\n",
              "       [ -5.97855703,   7.7013628 ],\n",
              "       [  1.26786195, -12.91171265],\n",
              "       [  1.6496414 ,  -8.17885028],\n",
              "       [  3.12411143,  -8.70061708],\n",
              "       [  6.51314701,  -9.22876595],\n",
              "       [ -4.56710123,   6.7128868 ],\n",
              "       [  0.79206393, -10.06034176],\n",
              "       [ -1.87776694,  -8.70088685],\n",
              "       [ -2.02356222,   2.71427677],\n",
              "       [ -6.60401988,   4.90037771],\n",
              "       [  1.6316751 ,   4.06037876],\n",
              "       [ -4.21380849,   5.70671423],\n",
              "       [  4.67555264,  -5.88153649],\n",
              "       [ -1.12931317,   5.66661753],\n",
              "       [ -6.74280266,   2.50000771],\n",
              "       [  1.53070235,  -7.07925978],\n",
              "       [  1.95599648,  -7.87997174],\n",
              "       [ -0.38804881,   1.77553876],\n",
              "       [ -4.01674342,   1.09979167],\n",
              "       [ -0.38650309, -11.31293382],\n",
              "       [  4.01179394,  -9.66460989],\n",
              "       [  2.49335399, -13.37266803],\n",
              "       [  3.62271825,  -5.24524861],\n",
              "       [ -3.89211094,   3.43709954],\n",
              "       [  4.23953979,  -7.32037428],\n",
              "       [  0.83509522,   8.58314564],\n",
              "       [ -0.53578107,  -8.92448221],\n",
              "       [  7.12613154, -10.07313808],\n",
              "       [ -3.02664047,   5.30713141],\n",
              "       [ -0.77209482, -10.16546192],\n",
              "       [  3.180963  , -13.20004838],\n",
              "       [  4.24068356,  -7.84179921],\n",
              "       [ -1.97686568,   6.17005809],\n",
              "       [ -3.5596415 ,   4.03275969],\n",
              "       [  1.05296342,  -7.6418524 ],\n",
              "       [ -4.22356596,   2.472105  ],\n",
              "       [ -4.38242259,   3.99644542],\n",
              "       [  2.75688269,  -9.4153966 ],\n",
              "       [ -5.56217734,   4.10603125],\n",
              "       [  3.44128097, -10.80144131],\n",
              "       [ -2.12782162,   2.18158661],\n",
              "       [  1.68945036, -12.28272457],\n",
              "       [  0.40594224, -11.5268944 ],\n",
              "       [ -0.68667116,   6.78484329],\n",
              "       [  3.46708781,  -7.74381548],\n",
              "       [  1.72805832,  -6.15324781],\n",
              "       [  2.87195666, -10.46901554],\n",
              "       [  0.45646992,  -8.13236116],\n",
              "       [  0.6816948 ,   1.0267858 ],\n",
              "       [  5.0707363 ,  -9.20642386],\n",
              "       [  3.42330568,  -8.18817178],\n",
              "       [  5.91543792,  -9.53703214],\n",
              "       [ -2.2118683 ,   4.94546803],\n",
              "       [ -5.94056863,   5.85802932],\n",
              "       [  1.88308343, -12.2050831 ],\n",
              "       [  2.30009802,  -6.42966439],\n",
              "       [ -1.89093557,   3.02324887],\n",
              "       [  2.3144374 ,   1.5293145 ],\n",
              "       [  8.11536708,  -5.17546809],\n",
              "       [  4.68468888,  -8.69005845],\n",
              "       [  0.75634075,   5.8635315 ],\n",
              "       [ -3.18669871,   5.44091308],\n",
              "       [ -6.85377791,   5.59302036],\n",
              "       [ -6.3755951 ,   2.58732542],\n",
              "       [ -4.18737654,   5.8427394 ],\n",
              "       [  5.45292208,  -7.05102419],\n",
              "       [ -3.98792811,  10.05985207],\n",
              "       [ -3.56932449,   3.45744418],\n",
              "       [ -0.76793817,   6.28018412],\n",
              "       [  6.71171979,  -7.06833242],\n",
              "       [ -0.42113553,   6.65081618],\n",
              "       [  1.55090715,   3.72471099],\n",
              "       [ -4.37188032,   4.73170757],\n",
              "       [  1.10088149,   1.2386685 ],\n",
              "       [ -3.56812663,   5.72286271],\n",
              "       [  0.26658995,   4.28693852],\n",
              "       [ -3.35895448,   6.16120166],\n",
              "       [ -0.1187893 ,   5.84055019],\n",
              "       [  8.13925268, -13.86108082],\n",
              "       [ -5.48852518,   1.55429144],\n",
              "       [  5.77805365, -11.59762303],\n",
              "       [ -1.50433159,   1.24466988],\n",
              "       [  0.45983816,  -6.86033757],\n",
              "       [  1.95650512,  -9.84203618],\n",
              "       [  2.21558185, -10.814251  ],\n",
              "       [ -2.87733877,   2.43562284],\n",
              "       [ -1.57528473,   3.12012491],\n",
              "       [  2.73247824, -11.58803682],\n",
              "       [ -1.46222022,   1.78408941],\n",
              "       [ -5.93936538,   7.70955897],\n",
              "       [  4.35697962,  -5.01977224],\n",
              "       [ -4.72909721,   5.40719335],\n",
              "       [  7.11758938,  -8.57061006],\n",
              "       [  5.02334273, -11.88133967],\n",
              "       [ -2.46623751,   3.63676279],\n",
              "       [ -0.50756286,   4.4148258 ],\n",
              "       [  1.19335297,   4.03447882],\n",
              "       [ -1.38576755,   8.99002071],\n",
              "       [  2.3408961 , -11.14141672],\n",
              "       [  4.97082621, -11.67118535],\n",
              "       [ -1.79643153,   3.12696196],\n",
              "       [ -1.7954872 ,   4.23307157],\n",
              "       [ -1.17657531,   7.82779095],\n",
              "       [ -8.89872288,   0.0166388 ],\n",
              "       [  1.453698  ,  -7.79057581],\n",
              "       [  2.90302644,   2.99820557],\n",
              "       [ -2.52254392,   3.25023853],\n",
              "       [ -5.02889481,   9.23145289],\n",
              "       [  0.55008171, -11.65199089],\n",
              "       [ -1.4028506 ,   6.45430286],\n",
              "       [ -1.69747542,  -9.36729698],\n",
              "       [  0.08272194, -10.2515667 ],\n",
              "       [ -4.45255509,   3.24613275],\n",
              "       [ -0.27348437,   4.96775597],\n",
              "       [ -6.15662067,   6.99963562],\n",
              "       [  0.50090822, -10.5944229 ],\n",
              "       [ -5.04847279,   5.22959702],\n",
              "       [  6.41406146, -10.72650903],\n",
              "       [  0.54835631,  -7.77335293],\n",
              "       [  3.13649249,  -6.98662823],\n",
              "       [  1.06322061, -11.49149018],\n",
              "       [ -3.89747745,   5.53788821],\n",
              "       [ -3.33490054,   3.54253154],\n",
              "       [  2.6363286 ,  -8.76742709],\n",
              "       [  0.62256676,  -9.49892132],\n",
              "       [ -1.88860529,   4.07992822],\n",
              "       [ -4.93856532,   7.60335292],\n",
              "       [ -2.84352731,   2.56743283],\n",
              "       [ -7.62107774,   3.18334811],\n",
              "       [  2.7092325 ,  -7.79247037],\n",
              "       [  3.72174729, -10.95898406],\n",
              "       [ -1.61603435,   6.86525431],\n",
              "       [  1.52093859,  -7.50399562],\n",
              "       [  5.08055235,  -9.95588491],\n",
              "       [ -2.79615216,   6.24685348]])"
            ]
          },
          "metadata": {},
          "execution_count": 54
        }
      ]
    },
    {
      "cell_type": "code",
      "source": [
        "plt.scatter(X[:, 0], X[:, 1], cmap='autumn', s=60)"
      ],
      "metadata": {
        "colab": {
          "base_uri": "https://localhost:8080/",
          "height": 486
        },
        "id": "O8I16x84S9IS",
        "outputId": "ca763afe-7ba7-4a63-d297-8931ce996556"
      },
      "execution_count": null,
      "outputs": [
        {
          "output_type": "stream",
          "name": "stderr",
          "text": [
            "<ipython-input-55-a3a6361253ac>:1: UserWarning: No data for colormapping provided via 'c'. Parameters 'cmap' will be ignored\n",
            "  plt.scatter(X[:, 0], X[:, 1], cmap='autumn', s=60)\n"
          ]
        },
        {
          "output_type": "execute_result",
          "data": {
            "text/plain": [
              "<matplotlib.collections.PathCollection at 0x7b6dead7eb60>"
            ]
          },
          "metadata": {},
          "execution_count": 55
        },
        {
          "output_type": "display_data",
          "data": {
            "text/plain": [
              "<Figure size 640x480 with 1 Axes>"
            ],
            "image/png": "[encoded data removed]"
          },
          "metadata": {}
        }
      ]
    },
    {
      "cell_type": "code",
      "source": [
        "# приведем данные к единому масштабу\n",
        "from sklearn.preprocessing import StandardScaler"
      ],
      "metadata": {
        "id": "nAJ7LIdoS_sB"
      },
      "execution_count": null,
      "outputs": []
    },
    {
      "cell_type": "code",
      "source": [
        "scaler = StandardScaler()"
      ],
      "metadata": {
        "id": "m4k7ChUjTByW"
      },
      "execution_count": null,
      "outputs": []
    },
    {
      "cell_type": "code",
      "source": [
        "v_1 = np.array(np.random.randint(0, 1000, 500))\n",
        "v_2 = np.array(np.random.randint(0, 10, 500))"
      ],
      "metadata": {
        "id": "9RxheEpaTDnE"
      },
      "execution_count": null,
      "outputs": []
    },
    {
      "cell_type": "code",
      "source": [
        "print(v_1.max())\n",
        "print(v_1.min())\n",
        "\n",
        "print(v_2.max())\n",
        "print(v_2.min())"
      ],
      "metadata": {
        "colab": {
          "base_uri": "https://localhost:8080/"
        },
        "id": "IdDeMgFYTFJk",
        "outputId": "6a842b2b-f025-4681-d69c-0542f5f60342"
      },
      "execution_count": null,
      "outputs": [
        {
          "output_type": "stream",
          "name": "stdout",
          "text": [
            "999\n",
            "3\n",
            "9\n",
            "0\n"
          ]
        }
      ]
    },
    {
      "cell_type": "code",
      "source": [
        "v_1_scaled = scaler.fit_transform(v_1.reshape(-1, 1))\n",
        "v_1_scaled\n",
        "v_2_scaled = scaler.fit_transform(v_2.reshape(-1, 1))\n",
        "v_2_scaled"
      ],
      "metadata": {
        "colab": {
          "base_uri": "https://localhost:8080/"
        },
        "id": "jzurjtzETHRJ",
        "outputId": "9d7ed74c-986c-4732-a04a-958b092ab404"
      },
      "execution_count": null,
      "outputs": [
        {
          "output_type": "execute_result",
          "data": {
            "text/plain": [
              "array([[ 0.14875471],\n",
              "       [ 1.55875199],\n",
              "       [-0.55624393],\n",
              "       [ 1.55875199],\n",
              "       [ 0.85375335],\n",
              "       [-0.20374461],\n",
              "       [ 0.14875471],\n",
              "       [-1.61374188],\n",
              "       [-1.61374188],\n",
              "       [-1.61374188],\n",
              "       [-0.90874325],\n",
              "       [ 1.55875199],\n",
              "       [-0.20374461],\n",
              "       [-0.90874325],\n",
              "       [ 1.55875199],\n",
              "       [-0.90874325],\n",
              "       [ 0.50125403],\n",
              "       [-0.55624393],\n",
              "       [-1.26124256],\n",
              "       [-0.20374461],\n",
              "       [ 0.14875471],\n",
              "       [-1.26124256],\n",
              "       [ 0.50125403],\n",
              "       [ 1.20625267],\n",
              "       [-1.26124256],\n",
              "       [-1.61374188],\n",
              "       [ 0.50125403],\n",
              "       [ 1.55875199],\n",
              "       [ 1.55875199],\n",
              "       [ 1.20625267],\n",
              "       [-1.61374188],\n",
              "       [-1.61374188],\n",
              "       [-0.20374461],\n",
              "       [ 0.50125403],\n",
              "       [-0.55624393],\n",
              "       [-0.90874325],\n",
              "       [-0.20374461],\n",
              "       [ 0.85375335],\n",
              "       [ 0.14875471],\n",
              "       [ 0.85375335],\n",
              "       [ 1.55875199],\n",
              "       [ 0.50125403],\n",
              "       [-0.20374461],\n",
              "       [-0.20374461],\n",
              "       [ 1.20625267],\n",
              "       [ 1.55875199],\n",
              "       [ 0.85375335],\n",
              "       [-0.20374461],\n",
              "       [-1.26124256],\n",
              "       [-0.55624393],\n",
              "       [-1.26124256],\n",
              "       [ 1.55875199],\n",
              "       [-0.90874325],\n",
              "       [-1.61374188],\n",
              "       [-0.55624393],\n",
              "       [ 0.50125403],\n",
              "       [ 0.14875471],\n",
              "       [-0.55624393],\n",
              "       [-1.61374188],\n",
              "       [ 1.55875199],\n",
              "       [-0.20374461],\n",
              "       [ 1.20625267],\n",
              "       [-1.61374188],\n",
              "       [-0.90874325],\n",
              "       [ 0.14875471],\n",
              "       [-1.61374188],\n",
              "       [ 0.85375335],\n",
              "       [-0.90874325],\n",
              "       [-0.55624393],\n",
              "       [-0.90874325],\n",
              "       [-0.20374461],\n",
              "       [-0.90874325],\n",
              "       [ 1.55875199],\n",
              "       [ 0.85375335],\n",
              "       [-1.26124256],\n",
              "       [-0.55624393],\n",
              "       [-0.55624393],\n",
              "       [ 0.85375335],\n",
              "       [-0.20374461],\n",
              "       [ 1.55875199],\n",
              "       [-0.55624393],\n",
              "       [-1.26124256],\n",
              "       [-0.20374461],\n",
              "       [-1.26124256],\n",
              "       [ 0.14875471],\n",
              "       [ 1.20625267],\n",
              "       [ 1.55875199],\n",
              "       [-1.26124256],\n",
              "       [-0.20374461],\n",
              "       [-0.90874325],\n",
              "       [ 0.50125403],\n",
              "       [-0.55624393],\n",
              "       [ 1.20625267],\n",
              "       [ 0.50125403],\n",
              "       [-1.26124256],\n",
              "       [ 0.14875471],\n",
              "       [-0.55624393],\n",
              "       [ 0.14875471],\n",
              "       [-0.55624393],\n",
              "       [ 1.20625267],\n",
              "       [-1.61374188],\n",
              "       [ 1.20625267],\n",
              "       [ 0.85375335],\n",
              "       [ 0.50125403],\n",
              "       [ 0.50125403],\n",
              "       [-0.55624393],\n",
              "       [ 0.50125403],\n",
              "       [ 0.85375335],\n",
              "       [ 0.85375335],\n",
              "       [-1.61374188],\n",
              "       [-0.55624393],\n",
              "       [-0.90874325],\n",
              "       [ 0.85375335],\n",
              "       [-0.55624393],\n",
              "       [ 1.55875199],\n",
              "       [ 0.14875471],\n",
              "       [ 1.55875199],\n",
              "       [ 1.55875199],\n",
              "       [-0.55624393],\n",
              "       [ 0.50125403],\n",
              "       [ 0.50125403],\n",
              "       [-1.61374188],\n",
              "       [-0.55624393],\n",
              "       [ 1.20625267],\n",
              "       [ 0.14875471],\n",
              "       [-0.55624393],\n",
              "       [ 0.14875471],\n",
              "       [-1.61374188],\n",
              "       [-0.55624393],\n",
              "       [-1.26124256],\n",
              "       [-0.55624393],\n",
              "       [-1.61374188],\n",
              "       [-1.61374188],\n",
              "       [-1.26124256],\n",
              "       [-1.61374188],\n",
              "       [ 1.20625267],\n",
              "       [-1.26124256],\n",
              "       [ 1.20625267],\n",
              "       [ 1.20625267],\n",
              "       [ 0.50125403],\n",
              "       [-0.20374461],\n",
              "       [-0.55624393],\n",
              "       [ 0.50125403],\n",
              "       [-1.26124256],\n",
              "       [ 0.85375335],\n",
              "       [-1.61374188],\n",
              "       [-0.55624393],\n",
              "       [-0.90874325],\n",
              "       [ 0.50125403],\n",
              "       [ 1.55875199],\n",
              "       [ 0.50125403],\n",
              "       [-0.55624393],\n",
              "       [ 1.20625267],\n",
              "       [-0.90874325],\n",
              "       [ 1.20625267],\n",
              "       [-1.26124256],\n",
              "       [-1.61374188],\n",
              "       [ 0.14875471],\n",
              "       [-0.55624393],\n",
              "       [ 0.50125403],\n",
              "       [-0.20374461],\n",
              "       [ 0.50125403],\n",
              "       [ 1.20625267],\n",
              "       [ 0.14875471],\n",
              "       [ 0.14875471],\n",
              "       [-0.90874325],\n",
              "       [ 0.85375335],\n",
              "       [-1.61374188],\n",
              "       [-0.55624393],\n",
              "       [ 0.85375335],\n",
              "       [ 1.20625267],\n",
              "       [-1.61374188],\n",
              "       [-1.26124256],\n",
              "       [ 0.14875471],\n",
              "       [ 0.14875471],\n",
              "       [ 1.55875199],\n",
              "       [-0.20374461],\n",
              "       [ 0.85375335],\n",
              "       [ 1.55875199],\n",
              "       [-0.55624393],\n",
              "       [ 0.85375335],\n",
              "       [ 0.50125403],\n",
              "       [-0.55624393],\n",
              "       [ 1.20625267],\n",
              "       [ 0.85375335],\n",
              "       [-0.55624393],\n",
              "       [-1.61374188],\n",
              "       [ 0.50125403],\n",
              "       [ 0.85375335],\n",
              "       [ 1.20625267],\n",
              "       [ 0.50125403],\n",
              "       [ 1.55875199],\n",
              "       [-1.26124256],\n",
              "       [-1.26124256],\n",
              "       [ 1.55875199],\n",
              "       [ 1.55875199],\n",
              "       [-1.61374188],\n",
              "       [ 0.50125403],\n",
              "       [-1.61374188],\n",
              "       [-0.90874325],\n",
              "       [-0.55624393],\n",
              "       [-0.90874325],\n",
              "       [ 0.14875471],\n",
              "       [ 0.85375335],\n",
              "       [ 0.14875471],\n",
              "       [ 0.50125403],\n",
              "       [ 1.55875199],\n",
              "       [-0.20374461],\n",
              "       [-0.55624393],\n",
              "       [ 0.85375335],\n",
              "       [ 0.14875471],\n",
              "       [ 1.20625267],\n",
              "       [-1.61374188],\n",
              "       [-0.55624393],\n",
              "       [-0.55624393],\n",
              "       [-0.20374461],\n",
              "       [-0.20374461],\n",
              "       [ 1.20625267],\n",
              "       [ 0.14875471],\n",
              "       [-0.20374461],\n",
              "       [-0.55624393],\n",
              "       [ 1.20625267],\n",
              "       [-0.20374461],\n",
              "       [-0.20374461],\n",
              "       [-0.55624393],\n",
              "       [-0.90874325],\n",
              "       [ 1.55875199],\n",
              "       [ 0.50125403],\n",
              "       [ 1.20625267],\n",
              "       [ 0.50125403],\n",
              "       [-0.55624393],\n",
              "       [-0.20374461],\n",
              "       [ 1.20625267],\n",
              "       [-0.90874325],\n",
              "       [ 0.85375335],\n",
              "       [ 1.55875199],\n",
              "       [ 0.50125403],\n",
              "       [ 0.50125403],\n",
              "       [-0.55624393],\n",
              "       [-1.26124256],\n",
              "       [ 0.14875471],\n",
              "       [ 0.85375335],\n",
              "       [-0.90874325],\n",
              "       [-1.61374188],\n",
              "       [-1.26124256],\n",
              "       [-0.20374461],\n",
              "       [-0.55624393],\n",
              "       [-1.61374188],\n",
              "       [-0.90874325],\n",
              "       [ 1.55875199],\n",
              "       [-1.26124256],\n",
              "       [-0.55624393],\n",
              "       [-1.61374188],\n",
              "       [-1.61374188],\n",
              "       [-1.26124256],\n",
              "       [ 0.85375335],\n",
              "       [ 1.55875199],\n",
              "       [-0.55624393],\n",
              "       [ 1.20625267],\n",
              "       [ 0.50125403],\n",
              "       [-0.90874325],\n",
              "       [-0.20374461],\n",
              "       [ 0.14875471],\n",
              "       [-0.20374461],\n",
              "       [-0.90874325],\n",
              "       [ 1.20625267],\n",
              "       [ 1.55875199],\n",
              "       [ 0.14875471],\n",
              "       [ 0.14875471],\n",
              "       [-0.55624393],\n",
              "       [-0.20374461],\n",
              "       [-0.20374461],\n",
              "       [-0.90874325],\n",
              "       [-0.55624393],\n",
              "       [ 1.20625267],\n",
              "       [-0.90874325],\n",
              "       [ 0.50125403],\n",
              "       [ 0.50125403],\n",
              "       [-0.55624393],\n",
              "       [-0.20374461],\n",
              "       [ 0.14875471],\n",
              "       [-0.55624393],\n",
              "       [ 0.50125403],\n",
              "       [ 1.55875199],\n",
              "       [ 0.14875471],\n",
              "       [ 1.55875199],\n",
              "       [ 1.20625267],\n",
              "       [-1.26124256],\n",
              "       [ 1.55875199],\n",
              "       [-0.20374461],\n",
              "       [-1.26124256],\n",
              "       [-0.90874325],\n",
              "       [ 1.55875199],\n",
              "       [ 1.55875199],\n",
              "       [-0.20374461],\n",
              "       [ 1.20625267],\n",
              "       [ 0.14875471],\n",
              "       [ 0.50125403],\n",
              "       [-0.90874325],\n",
              "       [-0.20374461],\n",
              "       [-0.20374461],\n",
              "       [ 0.50125403],\n",
              "       [-0.90874325],\n",
              "       [ 0.85375335],\n",
              "       [ 0.50125403],\n",
              "       [ 1.20625267],\n",
              "       [ 0.14875471],\n",
              "       [-0.55624393],\n",
              "       [-1.26124256],\n",
              "       [ 1.55875199],\n",
              "       [-0.55624393],\n",
              "       [ 0.50125403],\n",
              "       [ 0.85375335],\n",
              "       [ 0.85375335],\n",
              "       [-0.55624393],\n",
              "       [-0.55624393],\n",
              "       [ 0.50125403],\n",
              "       [-0.90874325],\n",
              "       [ 1.20625267],\n",
              "       [-0.55624393],\n",
              "       [-0.20374461],\n",
              "       [-1.26124256],\n",
              "       [-0.90874325],\n",
              "       [-0.90874325],\n",
              "       [ 1.20625267],\n",
              "       [ 0.14875471],\n",
              "       [-0.90874325],\n",
              "       [-1.61374188],\n",
              "       [-1.61374188],\n",
              "       [ 0.50125403],\n",
              "       [ 0.85375335],\n",
              "       [ 1.20625267],\n",
              "       [-0.55624393],\n",
              "       [-0.90874325],\n",
              "       [-0.20374461],\n",
              "       [ 1.55875199],\n",
              "       [ 1.55875199],\n",
              "       [-1.26124256],\n",
              "       [-1.26124256],\n",
              "       [ 1.55875199],\n",
              "       [-0.55624393],\n",
              "       [ 0.50125403],\n",
              "       [-0.90874325],\n",
              "       [ 0.85375335],\n",
              "       [ 0.50125403],\n",
              "       [-1.26124256],\n",
              "       [-0.55624393],\n",
              "       [ 0.85375335],\n",
              "       [-1.61374188],\n",
              "       [-0.20374461],\n",
              "       [-0.90874325],\n",
              "       [-0.55624393],\n",
              "       [-0.90874325],\n",
              "       [-0.55624393],\n",
              "       [-1.61374188],\n",
              "       [-1.26124256],\n",
              "       [-1.61374188],\n",
              "       [-1.26124256],\n",
              "       [-0.55624393],\n",
              "       [-1.26124256],\n",
              "       [ 1.55875199],\n",
              "       [ 1.20625267],\n",
              "       [ 0.85375335],\n",
              "       [ 1.55875199],\n",
              "       [-1.26124256],\n",
              "       [-1.26124256],\n",
              "       [-0.20374461],\n",
              "       [-1.61374188],\n",
              "       [-0.90874325],\n",
              "       [ 1.20625267],\n",
              "       [ 1.55875199],\n",
              "       [-0.90874325],\n",
              "       [ 1.55875199],\n",
              "       [-1.26124256],\n",
              "       [ 1.55875199],\n",
              "       [-0.90874325],\n",
              "       [ 1.20625267],\n",
              "       [-0.20374461],\n",
              "       [ 1.20625267],\n",
              "       [-0.20374461],\n",
              "       [ 0.50125403],\n",
              "       [ 1.20625267],\n",
              "       [ 1.20625267],\n",
              "       [-0.20374461],\n",
              "       [-1.61374188],\n",
              "       [-1.61374188],\n",
              "       [-0.90874325],\n",
              "       [ 0.85375335],\n",
              "       [ 0.14875471],\n",
              "       [-1.26124256],\n",
              "       [-0.90874325],\n",
              "       [ 1.20625267],\n",
              "       [ 1.55875199],\n",
              "       [-0.20374461],\n",
              "       [-0.55624393],\n",
              "       [-1.61374188],\n",
              "       [ 0.85375335],\n",
              "       [ 1.20625267],\n",
              "       [-0.90874325],\n",
              "       [-0.55624393],\n",
              "       [-1.26124256],\n",
              "       [-0.90874325],\n",
              "       [ 0.50125403],\n",
              "       [-1.61374188],\n",
              "       [-0.20374461],\n",
              "       [ 0.85375335],\n",
              "       [ 0.50125403],\n",
              "       [-0.20374461],\n",
              "       [-0.90874325],\n",
              "       [-1.61374188],\n",
              "       [-0.90874325],\n",
              "       [-0.55624393],\n",
              "       [ 1.55875199],\n",
              "       [ 1.20625267],\n",
              "       [-0.55624393],\n",
              "       [ 1.20625267],\n",
              "       [ 0.50125403],\n",
              "       [ 0.85375335],\n",
              "       [ 0.50125403],\n",
              "       [-0.55624393],\n",
              "       [ 0.50125403],\n",
              "       [-0.20374461],\n",
              "       [-1.61374188],\n",
              "       [-1.61374188],\n",
              "       [ 0.14875471],\n",
              "       [ 1.55875199],\n",
              "       [-1.26124256],\n",
              "       [ 0.14875471],\n",
              "       [-0.20374461],\n",
              "       [-0.55624393],\n",
              "       [ 0.85375335],\n",
              "       [-0.90874325],\n",
              "       [ 1.20625267],\n",
              "       [-1.26124256],\n",
              "       [ 1.20625267],\n",
              "       [ 0.85375335],\n",
              "       [-0.55624393],\n",
              "       [ 0.14875471],\n",
              "       [-1.26124256],\n",
              "       [ 0.50125403],\n",
              "       [-0.55624393],\n",
              "       [ 0.85375335],\n",
              "       [ 0.50125403],\n",
              "       [-0.90874325],\n",
              "       [ 1.20625267],\n",
              "       [ 0.50125403],\n",
              "       [ 0.14875471],\n",
              "       [-0.90874325],\n",
              "       [ 1.55875199],\n",
              "       [ 0.50125403],\n",
              "       [-0.20374461],\n",
              "       [ 1.20625267],\n",
              "       [ 1.55875199],\n",
              "       [ 0.50125403],\n",
              "       [ 1.20625267],\n",
              "       [ 1.55875199],\n",
              "       [ 0.85375335],\n",
              "       [ 0.50125403],\n",
              "       [-0.90874325],\n",
              "       [ 1.55875199],\n",
              "       [ 1.20625267],\n",
              "       [-0.55624393],\n",
              "       [ 1.55875199],\n",
              "       [ 0.50125403],\n",
              "       [ 0.50125403],\n",
              "       [ 0.50125403],\n",
              "       [ 0.14875471],\n",
              "       [ 1.55875199],\n",
              "       [ 0.14875471],\n",
              "       [ 0.50125403],\n",
              "       [-0.90874325],\n",
              "       [-0.90874325],\n",
              "       [ 0.50125403],\n",
              "       [ 1.20625267],\n",
              "       [-0.55624393],\n",
              "       [ 1.55875199],\n",
              "       [-0.90874325],\n",
              "       [-1.61374188],\n",
              "       [ 1.20625267],\n",
              "       [ 0.50125403],\n",
              "       [-0.55624393],\n",
              "       [ 0.14875471],\n",
              "       [-0.55624393],\n",
              "       [-0.90874325],\n",
              "       [ 1.20625267],\n",
              "       [ 0.85375335],\n",
              "       [-0.90874325],\n",
              "       [ 1.20625267],\n",
              "       [ 0.14875471],\n",
              "       [ 1.20625267],\n",
              "       [ 0.85375335],\n",
              "       [-0.55624393],\n",
              "       [ 1.55875199],\n",
              "       [-0.90874325],\n",
              "       [ 0.50125403],\n",
              "       [ 1.20625267],\n",
              "       [ 1.20625267],\n",
              "       [-1.26124256],\n",
              "       [-1.26124256],\n",
              "       [ 0.14875471]])"
            ]
          },
          "metadata": {},
          "execution_count": 60
        }
      ]
    },
    {
      "cell_type": "code",
      "source": [
        "print(v_1_scaled.max())\n",
        "print(v_1_scaled.min())\n",
        "\n",
        "print(v_2_scaled.max())\n",
        "print(v_2_scaled.min())"
      ],
      "metadata": {
        "colab": {
          "base_uri": "https://localhost:8080/"
        },
        "id": "nQkFra0yTKeY",
        "outputId": "8eddf428-3473-4f01-ad14-5f9fedab10f9"
      },
      "execution_count": null,
      "outputs": [
        {
          "output_type": "stream",
          "name": "stdout",
          "text": [
            "1.7477330672335991\n",
            "-1.6640551921333815\n",
            "1.558751989682611\n",
            "-1.6137418834841688\n"
          ]
        }
      ]
    },
    {
      "cell_type": "code",
      "source": [
        "# fit-transform сразу обучается и преобразует данные\n",
        "X_scaled = scaler.fit_transform(X)\n",
        "X_scaled"
      ],
      "metadata": {
        "colab": {
          "base_uri": "https://localhost:8080/"
        },
        "id": "pbqEakw7TMIk",
        "outputId": "9aedbb42-96e8-46ad-9d58-1ad880cd2905"
      },
      "execution_count": null,
      "outputs": [
        {
          "output_type": "execute_result",
          "data": {
            "text/plain": [
              "array([[-2.27727357,  0.24011129],\n",
              "       [ 0.8583547 , -1.04110975],\n",
              "       [ 0.03904528, -1.02619998],\n",
              "       [ 0.35927937, -0.98972244],\n",
              "       [ 1.19401521, -1.42860293],\n",
              "       [ 0.77878915, -0.4104772 ],\n",
              "       [-1.15995889,  0.54377024],\n",
              "       [ 0.07684616, -0.80599469],\n",
              "       [ 0.80674857, -1.492398  ],\n",
              "       [-1.3443846 ,  1.26791365],\n",
              "       [-0.08323798,  0.86440611],\n",
              "       [-0.10936895, -0.79587099],\n",
              "       [-0.67558838,  1.22814128],\n",
              "       [-0.81524212,  0.7988017 ],\n",
              "       [ 0.20602909, -0.92554231],\n",
              "       [-1.19296259,  1.12584189],\n",
              "       [ 0.52926694, -0.51498427],\n",
              "       [ 0.22266624, -0.54132641],\n",
              "       [-1.36767512,  1.54550642],\n",
              "       [ 0.58303404, -0.54481232],\n",
              "       [-1.68364394,  1.81407039],\n",
              "       [ 1.3352479 , -0.40481227],\n",
              "       [ 1.48315067, -1.47630965],\n",
              "       [ 0.07096056, -0.60339191],\n",
              "       [ 1.64849536, -0.66636973],\n",
              "       [-0.44142403,  1.05425781],\n",
              "       [-0.15381614, -0.80612793],\n",
              "       [ 1.1049794 , -0.48577523],\n",
              "       [-1.65011632,  0.49813978],\n",
              "       [ 0.7259369 , -1.46150938],\n",
              "       [ 1.04464469, -1.09839866],\n",
              "       [-0.79384935,  0.76887442],\n",
              "       [-0.47707625,  1.06443755],\n",
              "       [ 0.36292295, -1.32429179],\n",
              "       [-1.14433716,  0.68114902],\n",
              "       [-0.51825697, -1.01742102],\n",
              "       [ 0.2710362 , -1.44816492],\n",
              "       [ 0.21646704,  0.92347954],\n",
              "       [ 0.8341053 , -0.58370758],\n",
              "       [-0.26313658,  1.22244396],\n",
              "       [-0.69171973,  0.97055875],\n",
              "       [ 1.97429009, -0.64488066],\n",
              "       [ 0.13855204, -0.86327494],\n",
              "       [-0.31134642, -1.75922676],\n",
              "       [ 1.36920934, -1.0878357 ],\n",
              "       [-0.13460873,  0.49407867],\n",
              "       [ 1.46766433, -0.55165213],\n",
              "       [-0.31371399,  0.70647806],\n",
              "       [-0.79994512,  0.72392983],\n",
              "       [ 1.05336385, -0.51713694],\n",
              "       [ 1.68496175, -0.98429618],\n",
              "       [-0.07829554,  0.89437824],\n",
              "       [ 0.63297976, -1.48023507],\n",
              "       [-1.44153087,  1.45399584],\n",
              "       [-0.13740752,  1.12827113],\n",
              "       [ 0.26559204,  0.48638805],\n",
              "       [-0.94820015,  0.83293758],\n",
              "       [ 0.08102018, -1.26891661],\n",
              "       [ 1.05772587, -1.11113021],\n",
              "       [ 0.71279039, -0.88989097],\n",
              "       [-1.95442524,  0.81185273],\n",
              "       [-0.09309058, -0.94993265],\n",
              "       [-0.91468076,  1.24524107],\n",
              "       [ 0.15940283,  1.4493008 ],\n",
              "       [ 0.06131372, -0.5066357 ],\n",
              "       [-1.62132435,  1.36806662],\n",
              "       [ 0.37136111, -1.44791094],\n",
              "       [ 0.47634625, -0.8013488 ],\n",
              "       [ 0.88180928, -0.872628  ],\n",
              "       [ 1.81375676, -0.94477907],\n",
              "       [-1.23318954,  1.2330297 ],\n",
              "       [ 0.24052189, -1.05838166],\n",
              "       [-0.49365221, -0.87266485],\n",
              "       [-0.53374431,  0.68677467],\n",
              "       [-1.79331975,  0.98542061],\n",
              "       [ 0.47140572,  0.87066732],\n",
              "       [-1.13603793,  1.09557523],\n",
              "       [ 1.30843854, -0.48750994],\n",
              "       [-0.28783566,  1.09009757],\n",
              "       [-1.83148349,  0.65750311],\n",
              "       [ 0.44363932, -0.65113239],\n",
              "       [ 0.56059053, -0.76051863],\n",
              "       [-0.08399613,  0.55853252],\n",
              "       [-1.0818472 ,  0.46621788],\n",
              "       [-0.08357107, -1.2294998 ],\n",
              "       [ 1.1259122 , -1.00432024],\n",
              "       [ 0.70835793, -1.51088262],\n",
              "       [ 1.01892067, -0.40058587],\n",
              "       [-1.04757464,  0.78552038],\n",
              "       [ 1.1885398 , -0.68407133],\n",
              "       [ 0.25235502,  1.48852806],\n",
              "       [-0.12462087, -0.90321049],\n",
              "       [ 1.98232076, -1.06012978],\n",
              "       [-0.80957979,  1.04098773],\n",
              "       [-0.18960455, -1.07274225],\n",
              "       [ 0.89744284, -1.48730084],\n",
              "       [ 1.18885433, -0.75530384],\n",
              "       [-0.52090328,  1.1588732 ],\n",
              "       [-0.9561492 ,  0.86689424],\n",
              "       [ 0.31226638, -0.72798886],\n",
              "       [-1.13872112,  0.65369129],\n",
              "       [-1.18240495,  0.86193331],\n",
              "       [ 0.78082542, -0.97027491],\n",
              "       [-1.50682452,  0.87690396],\n",
              "       [ 0.96902741, -1.15962418],\n",
              "       [-0.5624145 ,  0.61400321],\n",
              "       [ 0.48729328, -1.3619841 ],\n",
              "       [ 0.13434267, -1.25872922],\n",
              "       [-0.16611398,  1.24285976],\n",
              "       [ 0.97612401, -0.74191816],\n",
              "       [ 0.49791004, -0.52462875],\n",
              "       [ 0.81246949, -1.11421109],\n",
              "       [ 0.14823723, -0.79499786],\n",
              "       [ 0.21017159,  0.45624446],\n",
              "       [ 1.41710969, -0.94172688],\n",
              "       [ 0.96408441, -0.80262222],\n",
              "       [ 1.64939334, -0.98689169],\n",
              "       [-0.58552641,  0.99158045],\n",
              "       [-1.61087796,  1.11624657],\n",
              "       [ 0.54054024, -1.35137741],\n",
              "       [ 0.65521466, -0.56239036],\n",
              "       [-0.49727344,  0.72898373],\n",
              "       [ 0.65915783,  0.52489552],\n",
              "       [ 2.25434965, -0.39105307],\n",
              "       [ 1.3109509 , -0.87118557],\n",
              "       [ 0.23069841,  1.11699823],\n",
              "       [-0.85359404,  1.05926381],\n",
              "       [-1.86200046,  1.08004337],\n",
              "       [-1.73050545,  0.66943169],\n",
              "       [-1.12876943,  1.1141578 ],\n",
              "       [ 1.52220658, -0.64727509],\n",
              "       [-1.07392331,  1.69026274],\n",
              "       [-0.95881192,  0.78829968],\n",
              "       [-0.18846152,  1.17391765],\n",
              "       [ 1.86836209, -0.64963959],\n",
              "       [-0.09309461,  1.22455016],\n",
              "       [ 0.44919542,  0.82481133],\n",
              "       [-1.17950594,  0.96237837],\n",
              "       [ 0.32544332,  0.48519001],\n",
              "       [-0.95848252,  1.09778129],\n",
              "       [ 0.09602233,  0.90161792],\n",
              "       [-0.90096248,  1.15766332],\n",
              "       [-0.00995272,  1.11385872],\n",
              "       [ 2.26091792, -1.57760529],\n",
              "       [-1.48657098,  0.52830765],\n",
              "       [ 1.61161418, -1.26839154],\n",
              "       [-0.3909616 ,  0.48600987],\n",
              "       [ 0.14916346, -0.62122516],\n",
              "       [ 0.5607304 , -1.02855866],\n",
              "       [ 0.63197365, -1.16137413],\n",
              "       [-0.76852346,  0.64870742],\n",
              "       [-0.41047294,  0.74221808],\n",
              "       [ 0.77411446, -1.26708196],\n",
              "       [-0.37938144,  0.55970063],\n",
              "       [-1.61054708,  1.36918631],\n",
              "       [ 1.22083446, -0.36978326],\n",
              "       [-1.27773665,  1.05465731],\n",
              "       [ 1.97997176, -0.85486758],\n",
              "       [ 1.40407698, -1.30715042],\n",
              "       [-0.65547514,  0.81279662],\n",
              "       [-0.11686117,  0.91908876],\n",
              "       [ 0.35087196,  0.8671291 ],\n",
              "       [-0.3583578 ,  1.54411176],\n",
              "       [ 0.66643369, -1.20606864],\n",
              "       [ 1.38963552, -1.27844098],\n",
              "       [-0.47128587,  0.7431521 ],\n",
              "       [-0.47102619,  0.8942591 ],\n",
              "       [-0.30083223,  1.38533813],\n",
              "       [-2.42433782,  0.31824703],\n",
              "       [ 0.42246398, -0.74830614],\n",
              "       [ 0.82101334,  0.72556253],\n",
              "       [-0.67095879,  0.75999307],\n",
              "       [-1.36017769,  1.57709411],\n",
              "       [ 0.17397944, -1.2758188 ],\n",
              "       [-0.36305545,  1.19770423],\n",
              "       [-0.44407403, -0.96370396],\n",
              "       [ 0.04546065, -1.08450513],\n",
              "       [-1.20169061,  0.75943217],\n",
              "       [-0.05249217,  0.99462523],\n",
              "       [-1.67028989,  1.27220281],\n",
              "       [ 0.16045727, -1.13134314],\n",
              "       [-1.36556142,  1.03039566],\n",
              "       [ 1.78650933, -1.14938759],\n",
              "       [ 0.17350497, -0.74595331],\n",
              "       [ 0.88521394, -0.63847788],\n",
              "       [ 0.31508699, -1.2538926 ],\n",
              "       [-1.04905037,  1.0725117 ],\n",
              "       [-0.89434792,  0.79992357],\n",
              "       [ 0.74767437, -0.881755  ],\n",
              "       [ 0.19391203, -0.98168532],\n",
              "       [-0.49663264,  0.87333799],\n",
              "       [-1.33533808,  1.35467737],\n",
              "       [-0.75922568,  0.66671414],\n",
              "       [-2.07299947,  0.75085508],\n",
              "       [ 0.76772214, -0.74856496],\n",
              "       [ 1.04615256, -1.18114629],\n",
              "       [-0.42167863,  1.25384481],\n",
              "       [ 0.4409544 , -0.70915607],\n",
              "       [ 1.419809  , -1.04411168],\n",
              "       [-0.74619804,  1.16936432]])"
            ]
          },
          "metadata": {},
          "execution_count": 62
        }
      ]
    },
    {
      "cell_type": "code",
      "source": [
        "plt.scatter(X_scaled[:, 0], X_scaled[:, 1],cmap='autumn', s=60)"
      ],
      "metadata": {
        "colab": {
          "base_uri": "https://localhost:8080/",
          "height": 486
        },
        "id": "QavzXDaZTOzI",
        "outputId": "914086e2-7209-43ce-f127-a6787e4ffcb0"
      },
      "execution_count": null,
      "outputs": [
        {
          "output_type": "stream",
          "name": "stderr",
          "text": [
            "<ipython-input-63-2db0c5f3ae5e>:1: UserWarning: No data for colormapping provided via 'c'. Parameters 'cmap' will be ignored\n",
            "  plt.scatter(X_scaled[:, 0], X_scaled[:, 1],cmap='autumn', s=60)\n"
          ]
        },
        {
          "output_type": "execute_result",
          "data": {
            "text/plain": [
              "<matplotlib.collections.PathCollection at 0x7b6deae603a0>"
            ]
          },
          "metadata": {},
          "execution_count": 63
        },
        {
          "output_type": "display_data",
          "data": {
            "text/plain": [
              "<Figure size 640x480 with 1 Axes>"
            ],
            "image/png": "[encoded data removed]"
          },
          "metadata": {}
        }
      ]
    },
    {
      "cell_type": "code",
      "source": [
        "from sklearn.cluster import KMeans"
      ],
      "metadata": {
        "id": "CaWrO-x_TRO4"
      },
      "execution_count": null,
      "outputs": []
    },
    {
      "cell_type": "code",
      "source": [
        "# явно указываем количество кластеров\n",
        "kmeans = KMeans(n_clusters=3)\n",
        "# fit_predict обучается на данных и каждому объекту присваивает кластер\n",
        "clusters = kmeans.fit_predict(X_scaled)\n",
        "clusters"
      ],
      "metadata": {
        "colab": {
          "base_uri": "https://localhost:8080/"
        },
        "id": "SlT5DMAGTT8i",
        "outputId": "84988e8f-860f-4edb-b277-63d124d298c0"
      },
      "execution_count": null,
      "outputs": [
        {
          "output_type": "stream",
          "name": "stderr",
          "text": [
            "/usr/local/lib/python3.10/dist-packages/sklearn/cluster/_kmeans.py:870: FutureWarning: The default value of `n_init` will change from 10 to 'auto' in 1.4. Set the value of `n_init` explicitly to suppress the warning\n",
            "  warnings.warn(\n"
          ]
        },
        {
          "output_type": "execute_result",
          "data": {
            "text/plain": [
              "array([2, 1, 1, 1, 1, 1, 2, 1, 1, 2, 0, 1, 0, 2, 1, 2, 1, 1, 2, 1, 2, 1,\n",
              "       1, 1, 1, 0, 1, 1, 2, 1, 1, 2, 0, 1, 2, 1, 1, 0, 1, 0, 0, 1, 1, 1,\n",
              "       1, 0, 1, 0, 2, 1, 1, 0, 1, 2, 0, 0, 2, 1, 1, 1, 2, 1, 2, 0, 1, 2,\n",
              "       1, 1, 1, 1, 2, 1, 1, 0, 2, 0, 2, 1, 0, 2, 1, 1, 0, 2, 1, 1, 1, 1,\n",
              "       2, 1, 0, 1, 1, 2, 1, 1, 1, 0, 2, 1, 2, 2, 1, 2, 1, 0, 1, 1, 0, 1,\n",
              "       1, 1, 1, 0, 1, 1, 1, 0, 2, 1, 1, 0, 0, 1, 1, 0, 2, 2, 2, 2, 1, 2,\n",
              "       2, 0, 1, 0, 0, 2, 0, 2, 0, 2, 0, 1, 2, 1, 0, 1, 1, 1, 2, 0, 1, 0,\n",
              "       2, 1, 2, 1, 1, 0, 0, 0, 0, 1, 1, 0, 0, 0, 2, 1, 0, 0, 2, 1, 0, 1,\n",
              "       1, 2, 0, 2, 1, 2, 1, 1, 1, 1, 2, 2, 1, 1, 0, 2, 2, 2, 1, 1, 0, 1,\n",
              "       1, 2], dtype=int32)"
            ]
          },
          "metadata": {},
          "execution_count": 65
        }
      ]
    },
    {
      "cell_type": "code",
      "source": [
        "plt.scatter(X_scaled[:, 0], X_scaled[:, 1], cmap='viridis', c=clusters, s=60)"
      ],
      "metadata": {
        "colab": {
          "base_uri": "https://localhost:8080/",
          "height": 449
        },
        "id": "kaFftgT9TVmT",
        "outputId": "895cf507-4017-4f63-8d01-de1c92c1becf"
      },
      "execution_count": null,
      "outputs": [
        {
          "output_type": "execute_result",
          "data": {
            "text/plain": [
              "<matplotlib.collections.PathCollection at 0x7b6de8ab2a40>"
            ]
          },
          "metadata": {},
          "execution_count": 66
        },
        {
          "output_type": "display_data",
          "data": {
            "text/plain": [
              "<Figure size 640x480 with 1 Axes>"
            ],
            "image/png": "[encoded data removed]"
          },
          "metadata": {}
        }
      ]
    },
    {
      "cell_type": "code",
      "source": [
        "# строим график локтя\n",
        "\n",
        "# создаем список для инерции\n",
        "k_inertia = []\n",
        "# задаем диапазон кластеров\n",
        "ks = range(1, 20)\n",
        "\n",
        "for k in ks:\n",
        "    clf_kmeans = KMeans(n_clusters=k)\n",
        "    clf_kmeans.fit_predict(X_scaled)\n",
        "    # добавляем инерцию каждой модели в список\n",
        "    k_inertia.append(clf_kmeans.inertia_)"
      ],
      "metadata": {
        "colab": {
          "base_uri": "https://localhost:8080/"
        },
        "id": "ahRPEp9sTYS4",
        "outputId": "0a3cb2a8-369a-466a-94cf-a67a043b7910"
      },
      "execution_count": null,
      "outputs": [
        {
          "output_type": "stream",
          "name": "stderr",
          "text": [
            "/usr/local/lib/python3.10/dist-packages/sklearn/cluster/_kmeans.py:870: FutureWarning: The default value of `n_init` will change from 10 to 'auto' in 1.4. Set the value of `n_init` explicitly to suppress the warning\n",
            "  warnings.warn(\n",
            "/usr/local/lib/python3.10/dist-packages/sklearn/cluster/_kmeans.py:870: FutureWarning: The default value of `n_init` will change from 10 to 'auto' in 1.4. Set the value of `n_init` explicitly to suppress the warning\n",
            "  warnings.warn(\n",
            "/usr/local/lib/python3.10/dist-packages/sklearn/cluster/_kmeans.py:870: FutureWarning: The default value of `n_init` will change from 10 to 'auto' in 1.4. Set the value of `n_init` explicitly to suppress the warning\n",
            "  warnings.warn(\n",
            "/usr/local/lib/python3.10/dist-packages/sklearn/cluster/_kmeans.py:870: FutureWarning: The default value of `n_init` will change from 10 to 'auto' in 1.4. Set the value of `n_init` explicitly to suppress the warning\n",
            "  warnings.warn(\n",
            "/usr/local/lib/python3.10/dist-packages/sklearn/cluster/_kmeans.py:870: FutureWarning: The default value of `n_init` will change from 10 to 'auto' in 1.4. Set the value of `n_init` explicitly to suppress the warning\n",
            "  warnings.warn(\n",
            "/usr/local/lib/python3.10/dist-packages/sklearn/cluster/_kmeans.py:870: FutureWarning: The default value of `n_init` will change from 10 to 'auto' in 1.4. Set the value of `n_init` explicitly to suppress the warning\n",
            "  warnings.warn(\n",
            "/usr/local/lib/python3.10/dist-packages/sklearn/cluster/_kmeans.py:870: FutureWarning: The default value of `n_init` will change from 10 to 'auto' in 1.4. Set the value of `n_init` explicitly to suppress the warning\n",
            "  warnings.warn(\n",
            "/usr/local/lib/python3.10/dist-packages/sklearn/cluster/_kmeans.py:870: FutureWarning: The default value of `n_init` will change from 10 to 'auto' in 1.4. Set the value of `n_init` explicitly to suppress the warning\n",
            "  warnings.warn(\n",
            "/usr/local/lib/python3.10/dist-packages/sklearn/cluster/_kmeans.py:870: FutureWarning: The default value of `n_init` will change from 10 to 'auto' in 1.4. Set the value of `n_init` explicitly to suppress the warning\n",
            "  warnings.warn(\n",
            "/usr/local/lib/python3.10/dist-packages/sklearn/cluster/_kmeans.py:870: FutureWarning: The default value of `n_init` will change from 10 to 'auto' in 1.4. Set the value of `n_init` explicitly to suppress the warning\n",
            "  warnings.warn(\n",
            "/usr/local/lib/python3.10/dist-packages/sklearn/cluster/_kmeans.py:870: FutureWarning: The default value of `n_init` will change from 10 to 'auto' in 1.4. Set the value of `n_init` explicitly to suppress the warning\n",
            "  warnings.warn(\n",
            "/usr/local/lib/python3.10/dist-packages/sklearn/cluster/_kmeans.py:870: FutureWarning: The default value of `n_init` will change from 10 to 'auto' in 1.4. Set the value of `n_init` explicitly to suppress the warning\n",
            "  warnings.warn(\n",
            "/usr/local/lib/python3.10/dist-packages/sklearn/cluster/_kmeans.py:870: FutureWarning: The default value of `n_init` will change from 10 to 'auto' in 1.4. Set the value of `n_init` explicitly to suppress the warning\n",
            "  warnings.warn(\n",
            "/usr/local/lib/python3.10/dist-packages/sklearn/cluster/_kmeans.py:870: FutureWarning: The default value of `n_init` will change from 10 to 'auto' in 1.4. Set the value of `n_init` explicitly to suppress the warning\n",
            "  warnings.warn(\n",
            "/usr/local/lib/python3.10/dist-packages/sklearn/cluster/_kmeans.py:870: FutureWarning: The default value of `n_init` will change from 10 to 'auto' in 1.4. Set the value of `n_init` explicitly to suppress the warning\n",
            "  warnings.warn(\n",
            "/usr/local/lib/python3.10/dist-packages/sklearn/cluster/_kmeans.py:870: FutureWarning: The default value of `n_init` will change from 10 to 'auto' in 1.4. Set the value of `n_init` explicitly to suppress the warning\n",
            "  warnings.warn(\n",
            "/usr/local/lib/python3.10/dist-packages/sklearn/cluster/_kmeans.py:870: FutureWarning: The default value of `n_init` will change from 10 to 'auto' in 1.4. Set the value of `n_init` explicitly to suppress the warning\n",
            "  warnings.warn(\n",
            "/usr/local/lib/python3.10/dist-packages/sklearn/cluster/_kmeans.py:870: FutureWarning: The default value of `n_init` will change from 10 to 'auto' in 1.4. Set the value of `n_init` explicitly to suppress the warning\n",
            "  warnings.warn(\n",
            "/usr/local/lib/python3.10/dist-packages/sklearn/cluster/_kmeans.py:870: FutureWarning: The default value of `n_init` will change from 10 to 'auto' in 1.4. Set the value of `n_init` explicitly to suppress the warning\n",
            "  warnings.warn(\n"
          ]
        }
      ]
    },
    {
      "cell_type": "code",
      "source": [
        "plt.plot(ks, k_inertia)\n",
        "plt.plot(ks, k_inertia ,'ro')"
      ],
      "metadata": {
        "colab": {
          "base_uri": "https://localhost:8080/",
          "height": 449
        },
        "id": "Cf0O_r9sTaft",
        "outputId": "53f69039-a70d-4bab-b1e4-49c6ff533d33"
      },
      "execution_count": null,
      "outputs": [
        {
          "output_type": "execute_result",
          "data": {
            "text/plain": [
              "[<matplotlib.lines.Line2D at 0x7b6de8b452d0>]"
            ]
          },
          "metadata": {},
          "execution_count": 68
        },
        {
          "output_type": "display_data",
          "data": {
            "text/plain": [
              "<Figure size 640x480 with 1 Axes>"
            ],
            "image/png": "[encoded data removed]"
          },
          "metadata": {}
        }
      ]
    },
    {
      "cell_type": "code",
      "source": [
        "from scipy.spatial.distance import pdist\n",
        "from scipy.cluster import hierarchy"
      ],
      "metadata": {
        "id": "Kjx7tpw4TcZW"
      },
      "execution_count": null,
      "outputs": []
    },
    {
      "cell_type": "code",
      "source": [
        "# строим дендрограмму\n",
        "distance_mat = pdist(X_scaled) # pdist посчитает нам матрицу попарных расстояний между точками\n",
        "# Z = hierarchy.linkage(distance_mat) # linkage — реализация агломеративного алгоритма\n",
        "Z = hierarchy.linkage(distance_mat, 'ward')\n",
        "plt.figure(figsize=(20, 9))\n",
        "dn = hierarchy.dendrogram(Z)"
      ],
      "metadata": {
        "colab": {
          "base_uri": "https://localhost:8080/",
          "height": 753
        },
        "id": "SS-kA3cqTeMe",
        "outputId": "e6d754fe-f3b3-41f6-abb6-64fe29969f04"
      },
      "execution_count": null,
      "outputs": [
        {
          "output_type": "display_data",
          "data": {
            "text/plain": [
              "<Figure size 2000x900 with 1 Axes>"
            ],
            "image/png": "[encoded data removed]"
          },
          "metadata": {}
        }
      ]
    },
    {
      "cell_type": "code",
      "source": [
        "# делаем уже кластеризацию по факту\n",
        "from sklearn.cluster import AgglomerativeClustering"
      ],
      "metadata": {
        "id": "Dr6Ups0STgC_"
      },
      "execution_count": null,
      "outputs": []
    },
    {
      "cell_type": "code",
      "source": [
        "aglo = AgglomerativeClustering(n_clusters=3)\n",
        "clusters = aglo.fit_predict(X_scaled)\n",
        "clusters"
      ],
      "metadata": {
        "id": "IlEwCnIqTiDa",
        "outputId": "2f495083-6ec5-4f2c-d8a6-52c736e78da9",
        "colab": {
          "base_uri": "https://localhost:8080/"
        }
      },
      "execution_count": null,
      "outputs": [
        {
          "output_type": "execute_result",
          "data": {
            "text/plain": [
              "array([1, 0, 0, 0, 0, 0, 1, 0, 0, 1, 2, 0, 1, 1, 0, 1, 0, 0, 1, 0, 1, 0,\n",
              "       0, 0, 0, 2, 0, 0, 1, 0, 0, 1, 2, 0, 1, 0, 0, 2, 0, 2, 2, 0, 0, 0,\n",
              "       0, 2, 0, 2, 1, 0, 0, 2, 0, 1, 2, 2, 1, 0, 0, 0, 1, 0, 1, 2, 0, 1,\n",
              "       0, 0, 0, 0, 1, 0, 0, 2, 1, 2, 1, 0, 2, 1, 0, 0, 2, 1, 0, 0, 0, 0,\n",
              "       1, 0, 2, 0, 0, 1, 0, 0, 0, 2, 1, 0, 1, 1, 0, 1, 0, 2, 0, 0, 2, 0,\n",
              "       0, 0, 0, 2, 0, 0, 0, 2, 1, 0, 0, 2, 2, 0, 0, 2, 1, 1, 1, 1, 0, 1,\n",
              "       1, 2, 0, 2, 2, 1, 2, 1, 2, 1, 2, 0, 1, 0, 2, 0, 0, 0, 1, 2, 0, 2,\n",
              "       1, 0, 1, 0, 0, 1, 2, 2, 2, 0, 0, 2, 2, 2, 1, 0, 2, 1, 1, 0, 2, 0,\n",
              "       0, 1, 2, 1, 0, 1, 0, 0, 0, 0, 1, 1, 0, 0, 2, 1, 1, 1, 0, 0, 2, 0,\n",
              "       0, 1])"
            ]
          },
          "metadata": {},
          "execution_count": 72
        }
      ]
    },
    {
      "cell_type": "code",
      "source": [
        "plt.scatter(X_scaled[:, 0], X_scaled[:, 1],cmap='autumn', c=clusters, s=60)"
      ],
      "metadata": {
        "id": "D24YwWf4TkWK",
        "outputId": "d0f2f7be-635f-419e-d6a5-da4a3cd1b972",
        "colab": {
          "base_uri": "https://localhost:8080/",
          "height": 449
        }
      },
      "execution_count": null,
      "outputs": [
        {
          "output_type": "execute_result",
          "data": {
            "text/plain": [
              "<matplotlib.collections.PathCollection at 0x7b6de7f46fe0>"
            ]
          },
          "metadata": {},
          "execution_count": 73
        },
        {
          "output_type": "display_data",
          "data": {
            "text/plain": [
              "<Figure size 640x480 with 1 Axes>"
            ],
            "image/png": "[encoded data removed]"
          },
          "metadata": {}
        }
      ]
    },
    {
      "cell_type": "code",
      "source": [
        "df = pd.DataFrame(X)\n",
        "df['y_hat'] = clusters\n",
        "df"
      ],
      "metadata": {
        "id": "Vn5-pNjATmzA",
        "outputId": "d1f8817f-8985-4e8c-f574-ecc6bae68e62",
        "colab": {
          "base_uri": "https://localhost:8080/",
          "height": 444
        }
      },
      "execution_count": null,
      "outputs": [
        {
          "output_type": "execute_result",
          "data": {
            "text/plain": [
              "            0          1  y_hat\n",
              "0   -8.363922  -0.555318      1\n",
              "1    3.038819  -9.933911      0\n",
              "2    0.059392  -9.824770      0\n",
              "3    1.223927  -9.557753      0\n",
              "4    4.259451 -12.770377      0\n",
              "..        ...        ...    ...\n",
              "195  3.721747 -10.958984      0\n",
              "196 -1.616034   6.865254      2\n",
              "197  1.520939  -7.503996      0\n",
              "198  5.080552  -9.955885      0\n",
              "199 -2.796152   6.246853      1\n",
              "\n",
              "[200 rows x 3 columns]"
            ],
            "text/html": [
              "\n",
              "  <div id=\"df-e7b7f15d-e4ee-4c28-99c2-72f7c79222e9\" class=\"colab-df-container\">\n",
              "    <div>\n",
              "<style scoped>\n",
              "    .dataframe tbody tr th:only-of-type {\n",
              "        vertical-align: middle;\n",
              "    }\n",
              "\n",
              "    .dataframe tbody tr th {\n",
              "        vertical-align: top;\n",
              "    }\n",
              "\n",
              "    .dataframe thead th {\n",
              "        text-align: right;\n",
              "    }\n",
              "</style>\n",
              "<table border=\"1\" class=\"dataframe\">\n",
              "  <thead>\n",
              "    <tr style=\"text-align: right;\">\n",
              "      <th></th>\n",
              "      <th>0</th>\n",
              "      <th>1</th>\n",
              "      <th>y_hat</th>\n",
              "    </tr>\n",
              "  </thead>\n",
              "  <tbody>\n",
              "    <tr>\n",
              "      <th>0</th>\n",
              "      <td>-8.363922</td>\n",
              "      <td>-0.555318</td>\n",
              "      <td>1</td>\n",
              "    </tr>\n",
              "    <tr>\n",
              "      <th>1</th>\n",
              "      <td>3.038819</td>\n",
              "      <td>-9.933911</td>\n",
              "      <td>0</td>\n",
              "    </tr>\n",
              "    <tr>\n",
              "      <th>2</th>\n",
              "      <td>0.059392</td>\n",
              "      <td>-9.824770</td>\n",
              "      <td>0</td>\n",
              "    </tr>\n",
              "    <tr>\n",
              "      <th>3</th>\n",
              "      <td>1.223927</td>\n",
              "      <td>-9.557753</td>\n",
              "      <td>0</td>\n",
              "    </tr>\n",
              "    <tr>\n",
              "      <th>4</th>\n",
              "      <td>4.259451</td>\n",
              "      <td>-12.770377</td>\n",
              "      <td>0</td>\n",
              "    </tr>\n",
              "    <tr>\n",
              "      <th>...</th>\n",
              "      <td>...</td>\n",
              "      <td>...</td>\n",
              "      <td>...</td>\n",
              "    </tr>\n",
              "    <tr>\n",
              "      <th>195</th>\n",
              "      <td>3.721747</td>\n",
              "      <td>-10.958984</td>\n",
              "      <td>0</td>\n",
              "    </tr>\n",
              "    <tr>\n",
              "      <th>196</th>\n",
              "      <td>-1.616034</td>\n",
              "      <td>6.865254</td>\n",
              "      <td>2</td>\n",
              "    </tr>\n",
              "    <tr>\n",
              "      <th>197</th>\n",
              "      <td>1.520939</td>\n",
              "      <td>-7.503996</td>\n",
              "      <td>0</td>\n",
              "    </tr>\n",
              "    <tr>\n",
              "      <th>198</th>\n",
              "      <td>5.080552</td>\n",
              "      <td>-9.955885</td>\n",
              "      <td>0</td>\n",
              "    </tr>\n",
              "    <tr>\n",
              "      <th>199</th>\n",
              "      <td>-2.796152</td>\n",
              "      <td>6.246853</td>\n",
              "      <td>1</td>\n",
              "    </tr>\n",
              "  </tbody>\n",
              "</table>\n",
              "<p>200 rows × 3 columns</p>\n",
              "</div>\n",
              "    <div class=\"colab-df-buttons\">\n",
              "\n",
              "  <div class=\"colab-df-container\">\n",
              "    <button class=\"colab-df-convert\" onclick=\"convertToInteractive('df-e7b7f15d-e4ee-4c28-99c2-72f7c79222e9')\"\n",
              "            title=\"Convert this dataframe to an interactive table.\"\n",
              "            style=\"display:none;\">\n",
              "\n",
              "  <svg xmlns=\"http://www.w3.org/2000/svg\" height=\"24px\" viewBox=\"0 -960 960 960\">\n",
              "    <path d=\"M120-120v-720h720v720H120Zm60-500h600v-160H180v160Zm220 220h160v-160H400v160Zm0 220h160v-160H400v160ZM180-400h160v-160H180v160Zm440 0h160v-160H620v160ZM180-180h160v-160H180v160Zm440 0h160v-160H620v160Z\"/>\n",
              "  </svg>\n",
              "    </button>\n",
              "\n",
              "  <style>\n",
              "    .colab-df-container {\n",
              "      display:flex;\n",
              "      gap: 12px;\n",
              "    }\n",
              "\n",
              "    .colab-df-convert {\n",
              "      background-color: #E8F0FE;\n",
              "      border: none;\n",
              "      border-radius: 50%;\n",
              "      cursor: pointer;\n",
              "      display: none;\n",
              "      fill: #1967D2;\n",
              "      height: 32px;\n",
              "      padding: 0 0 0 0;\n",
              "      width: 32px;\n",
              "    }\n",
              "\n",
              "    .colab-df-convert:hover {\n",
              "      background-color: #E2EBFA;\n",
              "      box-shadow: 0px 1px 2px rgba(60, 64, 67, 0.3), 0px 1px 3px 1px rgba(60, 64, 67, 0.15);\n",
              "      fill: #174EA6;\n",
              "    }\n",
              "\n",
              "    .colab-df-buttons div {\n",
              "      margin-bottom: 4px;\n",
              "    }\n",
              "\n",
              "    [theme=dark] .colab-df-convert {\n",
              "      background-color: #3B4455;\n",
              "      fill: #D2E3FC;\n",
              "    }\n",
              "\n",
              "    [theme=dark] .colab-df-convert:hover {\n",
              "      background-color: #434B5C;\n",
              "      box-shadow: 0px 1px 3px 1px rgba(0, 0, 0, 0.15);\n",
              "      filter: drop-shadow(0px 1px 2px rgba(0, 0, 0, 0.3));\n",
              "      fill: #FFFFFF;\n",
              "    }\n",
              "  </style>\n",
              "\n",
              "    <script>\n",
              "      const buttonEl =\n",
              "        document.querySelector('#df-e7b7f15d-e4ee-4c28-99c2-72f7c79222e9 button.colab-df-convert');\n",
              "      buttonEl.style.display =\n",
              "        google.colab.kernel.accessAllowed ? 'block' : 'none';\n",
              "\n",
              "      async function convertToInteractive(key) {\n",
              "        const element = document.querySelector('#df-e7b7f15d-e4ee-4c28-99c2-72f7c79222e9');\n",
              "        const dataTable =\n",
              "          await google.colab.kernel.invokeFunction('convertToInteractive',\n",
              "                                                    [key], {});\n",
              "        if (!dataTable) return;\n",
              "\n",
              "        const docLinkHtml = 'Like what you see? Visit the ' +\n",
              "          '<a target=\"_blank\" href=https://colab.research.google.com/notebooks/data_table.ipynb>data table notebook</a>'\n",
              "          + ' to learn more about interactive tables.';\n",
              "        element.innerHTML = '';\n",
              "        dataTable['output_type'] = 'display_data';\n",
              "        await google.colab.output.renderOutput(dataTable, element);\n",
              "        const docLink = document.createElement('div');\n",
              "        docLink.innerHTML = docLinkHtml;\n",
              "        element.appendChild(docLink);\n",
              "      }\n",
              "    </script>\n",
              "  </div>\n",
              "\n",
              "\n",
              "<div id=\"df-c1996c75-4f22-4c7c-951f-ad4df4883f76\">\n",
              "  <button class=\"colab-df-quickchart\" onclick=\"quickchart('df-c1996c75-4f22-4c7c-951f-ad4df4883f76')\"\n",
              "            title=\"Suggest charts\"\n",
              "            style=\"display:none;\">\n",
              "\n",
              "<svg xmlns=\"http://www.w3.org/2000/svg\" height=\"24px\"viewBox=\"0 0 24 24\"\n",
              "     width=\"24px\">\n",
              "    <g>\n",
              "        <path d=\"M19 3H5c-1.1 0-2 .9-2 2v14c0 1.1.9 2 2 2h14c1.1 0 2-.9 2-2V5c0-1.1-.9-2-2-2zM9 17H7v-7h2v7zm4 0h-2V7h2v10zm4 0h-2v-4h2v4z\"/>\n",
              "    </g>\n",
              "</svg>\n",
              "  </button>\n",
              "\n",
              "<style>\n",
              "  .colab-df-quickchart {\n",
              "      --bg-color: #E8F0FE;\n",
              "      --fill-color: #1967D2;\n",
              "      --hover-bg-color: #E2EBFA;\n",
              "      --hover-fill-color: #174EA6;\n",
              "      --disabled-fill-color: #AAA;\n",
              "      --disabled-bg-color: #DDD;\n",
              "  }\n",
              "\n",
              "  [theme=dark] .colab-df-quickchart {\n",
              "      --bg-color: #3B4455;\n",
              "      --fill-color: #D2E3FC;\n",
              "      --hover-bg-color: #434B5C;\n",
              "      --hover-fill-color: #FFFFFF;\n",
              "      --disabled-bg-color: #3B4455;\n",
              "      --disabled-fill-color: #666;\n",
              "  }\n",
              "\n",
              "  .colab-df-quickchart {\n",
              "    background-color: var(--bg-color);\n",
              "    border: none;\n",
              "    border-radius: 50%;\n",
              "    cursor: pointer;\n",
              "    display: none;\n",
              "    fill: var(--fill-color);\n",
              "    height: 32px;\n",
              "    padding: 0;\n",
              "    width: 32px;\n",
              "  }\n",
              "\n",
              "  .colab-df-quickchart:hover {\n",
              "    background-color: var(--hover-bg-color);\n",
              "    box-shadow: 0 1px 2px rgba(60, 64, 67, 0.3), 0 1px 3px 1px rgba(60, 64, 67, 0.15);\n",
              "    fill: var(--button-hover-fill-color);\n",
              "  }\n",
              "\n",
              "  .colab-df-quickchart-complete:disabled,\n",
              "  .colab-df-quickchart-complete:disabled:hover {\n",
              "    background-color: var(--disabled-bg-color);\n",
              "    fill: var(--disabled-fill-color);\n",
              "    box-shadow: none;\n",
              "  }\n",
              "\n",
              "  .colab-df-spinner {\n",
              "    border: 2px solid var(--fill-color);\n",
              "    border-color: transparent;\n",
              "    border-bottom-color: var(--fill-color);\n",
              "    animation:\n",
              "      spin 1s steps(1) infinite;\n",
              "  }\n",
              "\n",
              "  @keyframes spin {\n",
              "    0% {\n",
              "      border-color: transparent;\n",
              "      border-bottom-color: var(--fill-color);\n",
              "      border-left-color: var(--fill-color);\n",
              "    }\n",
              "    20% {\n",
              "      border-color: transparent;\n",
              "      border-left-color: var(--fill-color);\n",
              "      border-top-color: var(--fill-color);\n",
              "    }\n",
              "    30% {\n",
              "      border-color: transparent;\n",
              "      border-left-color: var(--fill-color);\n",
              "      border-top-color: var(--fill-color);\n",
              "      border-right-color: var(--fill-color);\n",
              "    }\n",
              "    40% {\n",
              "      border-color: transparent;\n",
              "      border-right-color: var(--fill-color);\n",
              "      border-top-color: var(--fill-color);\n",
              "    }\n",
              "    60% {\n",
              "      border-color: transparent;\n",
              "      border-right-color: var(--fill-color);\n",
              "    }\n",
              "    80% {\n",
              "      border-color: transparent;\n",
              "      border-right-color: var(--fill-color);\n",
              "      border-bottom-color: var(--fill-color);\n",
              "    }\n",
              "    90% {\n",
              "      border-color: transparent;\n",
              "      border-bottom-color: var(--fill-color);\n",
              "    }\n",
              "  }\n",
              "</style>\n",
              "\n",
              "  <script>\n",
              "    async function quickchart(key) {\n",
              "      const quickchartButtonEl =\n",
              "        document.querySelector('#' + key + ' button');\n",
              "      quickchartButtonEl.disabled = true;  // To prevent multiple clicks.\n",
              "      quickchartButtonEl.classList.add('colab-df-spinner');\n",
              "      try {\n",
              "        const charts = await google.colab.kernel.invokeFunction(\n",
              "            'suggestCharts', [key], {});\n",
              "      } catch (error) {\n",
              "        console.error('Error during call to suggestCharts:', error);\n",
              "      }\n",
              "      quickchartButtonEl.classList.remove('colab-df-spinner');\n",
              "      quickchartButtonEl.classList.add('colab-df-quickchart-complete');\n",
              "    }\n",
              "    (() => {\n",
              "      let quickchartButtonEl =\n",
              "        document.querySelector('#df-c1996c75-4f22-4c7c-951f-ad4df4883f76 button');\n",
              "      quickchartButtonEl.style.display =\n",
              "        google.colab.kernel.accessAllowed ? 'block' : 'none';\n",
              "    })();\n",
              "  </script>\n",
              "</div>\n",
              "    </div>\n",
              "  </div>\n"
            ]
          },
          "metadata": {},
          "execution_count": 74
        }
      ]
    }
  ]
}